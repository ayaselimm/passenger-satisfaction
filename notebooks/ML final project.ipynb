{
 "cells": [
  {
   "cell_type": "code",
   "execution_count": 58,
   "metadata": {},
   "outputs": [
    {
     "name": "stdout",
     "output_type": "stream",
     "text": [
      "Requirement already satisfied: seaborn in c:\\anaconda\\lib\\site-packages (0.10.0)\n",
      "Requirement already satisfied: numpy>=1.13.3 in c:\\anaconda\\lib\\site-packages (from seaborn) (1.18.1)\n",
      "Requirement already satisfied: pandas>=0.22.0 in c:\\anaconda\\lib\\site-packages (from seaborn) (1.0.1)\n",
      "Requirement already satisfied: scipy>=1.0.1 in c:\\anaconda\\lib\\site-packages (from seaborn) (1.4.1)\n",
      "Requirement already satisfied: matplotlib>=2.1.2 in c:\\anaconda\\lib\\site-packages (from seaborn) (3.1.3)\n",
      "Requirement already satisfied: python-dateutil>=2.6.1 in c:\\anaconda\\lib\\site-packages (from pandas>=0.22.0->seaborn) (2.8.1)\n",
      "Requirement already satisfied: pytz>=2017.2 in c:\\anaconda\\lib\\site-packages (from pandas>=0.22.0->seaborn) (2019.3)\n",
      "Requirement already satisfied: pyparsing!=2.0.4,!=2.1.2,!=2.1.6,>=2.0.1 in c:\\anaconda\\lib\\site-packages (from matplotlib>=2.1.2->seaborn) (2.4.6)\n",
      "Requirement already satisfied: kiwisolver>=1.0.1 in c:\\anaconda\\lib\\site-packages (from matplotlib>=2.1.2->seaborn) (1.1.0)\n",
      "Requirement already satisfied: cycler>=0.10 in c:\\anaconda\\lib\\site-packages (from matplotlib>=2.1.2->seaborn) (0.10.0)\n",
      "Requirement already satisfied: six>=1.5 in c:\\anaconda\\lib\\site-packages (from python-dateutil>=2.6.1->pandas>=0.22.0->seaborn) (1.14.0)\n",
      "Requirement already satisfied: setuptools in c:\\anaconda\\lib\\site-packages (from kiwisolver>=1.0.1->matplotlib>=2.1.2->seaborn) (45.2.0.post20200210)\n",
      "Note: you may need to restart the kernel to use updated packages.\n"
     ]
    }
   ],
   "source": [
    "pip install seaborn"
   ]
  },
  {
   "cell_type": "code",
   "execution_count": 59,
   "metadata": {},
   "outputs": [],
   "source": [
    "import seaborn as sns"
   ]
  },
  {
   "cell_type": "code",
   "execution_count": 1,
   "metadata": {},
   "outputs": [],
   "source": [
    "import pandas as pd \n",
    "import numpy as np\n",
    "import matplotlib.pyplot as plt"
   ]
  },
  {
   "cell_type": "code",
   "execution_count": 2,
   "metadata": {},
   "outputs": [],
   "source": [
    "trainData=pd.read_csv(\"train.csv\")\n",
    "testData=pd.read_csv(\"test.csv\")\n",
    "df=pd.concat([trainData, testData], ignore_index=True)"
   ]
  },
  {
   "cell_type": "code",
   "execution_count": 3,
   "metadata": {},
   "outputs": [
    {
     "data": {
      "text/html": [
       "<div>\n",
       "<style scoped>\n",
       "    .dataframe tbody tr th:only-of-type {\n",
       "        vertical-align: middle;\n",
       "    }\n",
       "\n",
       "    .dataframe tbody tr th {\n",
       "        vertical-align: top;\n",
       "    }\n",
       "\n",
       "    .dataframe thead th {\n",
       "        text-align: right;\n",
       "    }\n",
       "</style>\n",
       "<table border=\"1\" class=\"dataframe\">\n",
       "  <thead>\n",
       "    <tr style=\"text-align: right;\">\n",
       "      <th></th>\n",
       "      <th>Unnamed: 0</th>\n",
       "      <th>id</th>\n",
       "      <th>Gender</th>\n",
       "      <th>Customer Type</th>\n",
       "      <th>Age</th>\n",
       "      <th>Type of Travel</th>\n",
       "      <th>Class</th>\n",
       "      <th>Flight Distance</th>\n",
       "      <th>Inflight wifi service</th>\n",
       "      <th>Departure/Arrival time convenient</th>\n",
       "      <th>...</th>\n",
       "      <th>Inflight entertainment</th>\n",
       "      <th>On-board service</th>\n",
       "      <th>Leg room service</th>\n",
       "      <th>Baggage handling</th>\n",
       "      <th>Checkin service</th>\n",
       "      <th>Inflight service</th>\n",
       "      <th>Cleanliness</th>\n",
       "      <th>Departure Delay in Minutes</th>\n",
       "      <th>Arrival Delay in Minutes</th>\n",
       "      <th>satisfaction</th>\n",
       "    </tr>\n",
       "  </thead>\n",
       "  <tbody>\n",
       "    <tr>\n",
       "      <th>0</th>\n",
       "      <td>0</td>\n",
       "      <td>19556</td>\n",
       "      <td>Female</td>\n",
       "      <td>Loyal Customer</td>\n",
       "      <td>52</td>\n",
       "      <td>Business travel</td>\n",
       "      <td>Eco</td>\n",
       "      <td>160</td>\n",
       "      <td>5</td>\n",
       "      <td>4</td>\n",
       "      <td>...</td>\n",
       "      <td>5</td>\n",
       "      <td>5</td>\n",
       "      <td>5</td>\n",
       "      <td>5</td>\n",
       "      <td>2</td>\n",
       "      <td>5</td>\n",
       "      <td>5</td>\n",
       "      <td>50</td>\n",
       "      <td>44.0</td>\n",
       "      <td>satisfied</td>\n",
       "    </tr>\n",
       "    <tr>\n",
       "      <th>1</th>\n",
       "      <td>1</td>\n",
       "      <td>90035</td>\n",
       "      <td>Female</td>\n",
       "      <td>Loyal Customer</td>\n",
       "      <td>36</td>\n",
       "      <td>Business travel</td>\n",
       "      <td>Business</td>\n",
       "      <td>2863</td>\n",
       "      <td>1</td>\n",
       "      <td>1</td>\n",
       "      <td>...</td>\n",
       "      <td>4</td>\n",
       "      <td>4</td>\n",
       "      <td>4</td>\n",
       "      <td>4</td>\n",
       "      <td>3</td>\n",
       "      <td>4</td>\n",
       "      <td>5</td>\n",
       "      <td>0</td>\n",
       "      <td>0.0</td>\n",
       "      <td>satisfied</td>\n",
       "    </tr>\n",
       "    <tr>\n",
       "      <th>2</th>\n",
       "      <td>2</td>\n",
       "      <td>12360</td>\n",
       "      <td>Male</td>\n",
       "      <td>disloyal Customer</td>\n",
       "      <td>20</td>\n",
       "      <td>Business travel</td>\n",
       "      <td>Eco</td>\n",
       "      <td>192</td>\n",
       "      <td>2</td>\n",
       "      <td>0</td>\n",
       "      <td>...</td>\n",
       "      <td>2</td>\n",
       "      <td>4</td>\n",
       "      <td>1</td>\n",
       "      <td>3</td>\n",
       "      <td>2</td>\n",
       "      <td>2</td>\n",
       "      <td>2</td>\n",
       "      <td>0</td>\n",
       "      <td>0.0</td>\n",
       "      <td>neutral or dissatisfied</td>\n",
       "    </tr>\n",
       "  </tbody>\n",
       "</table>\n",
       "<p>3 rows × 25 columns</p>\n",
       "</div>"
      ],
      "text/plain": [
       "   Unnamed: 0     id  Gender      Customer Type  Age   Type of Travel  \\\n",
       "0           0  19556  Female     Loyal Customer   52  Business travel   \n",
       "1           1  90035  Female     Loyal Customer   36  Business travel   \n",
       "2           2  12360    Male  disloyal Customer   20  Business travel   \n",
       "\n",
       "      Class  Flight Distance  Inflight wifi service  \\\n",
       "0       Eco              160                      5   \n",
       "1  Business             2863                      1   \n",
       "2       Eco              192                      2   \n",
       "\n",
       "   Departure/Arrival time convenient  ...  Inflight entertainment  \\\n",
       "0                                  4  ...                       5   \n",
       "1                                  1  ...                       4   \n",
       "2                                  0  ...                       2   \n",
       "\n",
       "   On-board service  Leg room service  Baggage handling  Checkin service  \\\n",
       "0                 5                 5                 5                2   \n",
       "1                 4                 4                 4                3   \n",
       "2                 4                 1                 3                2   \n",
       "\n",
       "   Inflight service  Cleanliness  Departure Delay in Minutes  \\\n",
       "0                 5            5                          50   \n",
       "1                 4            5                           0   \n",
       "2                 2            2                           0   \n",
       "\n",
       "   Arrival Delay in Minutes             satisfaction  \n",
       "0                      44.0                satisfied  \n",
       "1                       0.0                satisfied  \n",
       "2                       0.0  neutral or dissatisfied  \n",
       "\n",
       "[3 rows x 25 columns]"
      ]
     },
     "execution_count": 3,
     "metadata": {},
     "output_type": "execute_result"
    }
   ],
   "source": [
    "testData.head(3)"
   ]
  },
  {
   "cell_type": "code",
   "execution_count": 4,
   "metadata": {},
   "outputs": [
    {
     "data": {
      "text/html": [
       "<div>\n",
       "<style scoped>\n",
       "    .dataframe tbody tr th:only-of-type {\n",
       "        vertical-align: middle;\n",
       "    }\n",
       "\n",
       "    .dataframe tbody tr th {\n",
       "        vertical-align: top;\n",
       "    }\n",
       "\n",
       "    .dataframe thead th {\n",
       "        text-align: right;\n",
       "    }\n",
       "</style>\n",
       "<table border=\"1\" class=\"dataframe\">\n",
       "  <thead>\n",
       "    <tr style=\"text-align: right;\">\n",
       "      <th></th>\n",
       "      <th>Unnamed: 0</th>\n",
       "      <th>id</th>\n",
       "      <th>Gender</th>\n",
       "      <th>Customer Type</th>\n",
       "      <th>Age</th>\n",
       "      <th>Type of Travel</th>\n",
       "      <th>Class</th>\n",
       "      <th>Flight Distance</th>\n",
       "      <th>Inflight wifi service</th>\n",
       "      <th>Departure/Arrival time convenient</th>\n",
       "      <th>...</th>\n",
       "      <th>Inflight entertainment</th>\n",
       "      <th>On-board service</th>\n",
       "      <th>Leg room service</th>\n",
       "      <th>Baggage handling</th>\n",
       "      <th>Checkin service</th>\n",
       "      <th>Inflight service</th>\n",
       "      <th>Cleanliness</th>\n",
       "      <th>Departure Delay in Minutes</th>\n",
       "      <th>Arrival Delay in Minutes</th>\n",
       "      <th>satisfaction</th>\n",
       "    </tr>\n",
       "  </thead>\n",
       "  <tbody>\n",
       "    <tr>\n",
       "      <th>0</th>\n",
       "      <td>0</td>\n",
       "      <td>70172</td>\n",
       "      <td>Male</td>\n",
       "      <td>Loyal Customer</td>\n",
       "      <td>13</td>\n",
       "      <td>Personal Travel</td>\n",
       "      <td>Eco Plus</td>\n",
       "      <td>460</td>\n",
       "      <td>3</td>\n",
       "      <td>4</td>\n",
       "      <td>...</td>\n",
       "      <td>5</td>\n",
       "      <td>4</td>\n",
       "      <td>3</td>\n",
       "      <td>4</td>\n",
       "      <td>4</td>\n",
       "      <td>5</td>\n",
       "      <td>5</td>\n",
       "      <td>25</td>\n",
       "      <td>18.0</td>\n",
       "      <td>neutral or dissatisfied</td>\n",
       "    </tr>\n",
       "    <tr>\n",
       "      <th>1</th>\n",
       "      <td>1</td>\n",
       "      <td>5047</td>\n",
       "      <td>Male</td>\n",
       "      <td>disloyal Customer</td>\n",
       "      <td>25</td>\n",
       "      <td>Business travel</td>\n",
       "      <td>Business</td>\n",
       "      <td>235</td>\n",
       "      <td>3</td>\n",
       "      <td>2</td>\n",
       "      <td>...</td>\n",
       "      <td>1</td>\n",
       "      <td>1</td>\n",
       "      <td>5</td>\n",
       "      <td>3</td>\n",
       "      <td>1</td>\n",
       "      <td>4</td>\n",
       "      <td>1</td>\n",
       "      <td>1</td>\n",
       "      <td>6.0</td>\n",
       "      <td>neutral or dissatisfied</td>\n",
       "    </tr>\n",
       "    <tr>\n",
       "      <th>2</th>\n",
       "      <td>2</td>\n",
       "      <td>110028</td>\n",
       "      <td>Female</td>\n",
       "      <td>Loyal Customer</td>\n",
       "      <td>26</td>\n",
       "      <td>Business travel</td>\n",
       "      <td>Business</td>\n",
       "      <td>1142</td>\n",
       "      <td>2</td>\n",
       "      <td>2</td>\n",
       "      <td>...</td>\n",
       "      <td>5</td>\n",
       "      <td>4</td>\n",
       "      <td>3</td>\n",
       "      <td>4</td>\n",
       "      <td>4</td>\n",
       "      <td>4</td>\n",
       "      <td>5</td>\n",
       "      <td>0</td>\n",
       "      <td>0.0</td>\n",
       "      <td>satisfied</td>\n",
       "    </tr>\n",
       "    <tr>\n",
       "      <th>3</th>\n",
       "      <td>3</td>\n",
       "      <td>24026</td>\n",
       "      <td>Female</td>\n",
       "      <td>Loyal Customer</td>\n",
       "      <td>25</td>\n",
       "      <td>Business travel</td>\n",
       "      <td>Business</td>\n",
       "      <td>562</td>\n",
       "      <td>2</td>\n",
       "      <td>5</td>\n",
       "      <td>...</td>\n",
       "      <td>2</td>\n",
       "      <td>2</td>\n",
       "      <td>5</td>\n",
       "      <td>3</td>\n",
       "      <td>1</td>\n",
       "      <td>4</td>\n",
       "      <td>2</td>\n",
       "      <td>11</td>\n",
       "      <td>9.0</td>\n",
       "      <td>neutral or dissatisfied</td>\n",
       "    </tr>\n",
       "    <tr>\n",
       "      <th>4</th>\n",
       "      <td>4</td>\n",
       "      <td>119299</td>\n",
       "      <td>Male</td>\n",
       "      <td>Loyal Customer</td>\n",
       "      <td>61</td>\n",
       "      <td>Business travel</td>\n",
       "      <td>Business</td>\n",
       "      <td>214</td>\n",
       "      <td>3</td>\n",
       "      <td>3</td>\n",
       "      <td>...</td>\n",
       "      <td>3</td>\n",
       "      <td>3</td>\n",
       "      <td>4</td>\n",
       "      <td>4</td>\n",
       "      <td>3</td>\n",
       "      <td>3</td>\n",
       "      <td>3</td>\n",
       "      <td>0</td>\n",
       "      <td>0.0</td>\n",
       "      <td>satisfied</td>\n",
       "    </tr>\n",
       "    <tr>\n",
       "      <th>...</th>\n",
       "      <td>...</td>\n",
       "      <td>...</td>\n",
       "      <td>...</td>\n",
       "      <td>...</td>\n",
       "      <td>...</td>\n",
       "      <td>...</td>\n",
       "      <td>...</td>\n",
       "      <td>...</td>\n",
       "      <td>...</td>\n",
       "      <td>...</td>\n",
       "      <td>...</td>\n",
       "      <td>...</td>\n",
       "      <td>...</td>\n",
       "      <td>...</td>\n",
       "      <td>...</td>\n",
       "      <td>...</td>\n",
       "      <td>...</td>\n",
       "      <td>...</td>\n",
       "      <td>...</td>\n",
       "      <td>...</td>\n",
       "      <td>...</td>\n",
       "    </tr>\n",
       "    <tr>\n",
       "      <th>129875</th>\n",
       "      <td>25971</td>\n",
       "      <td>78463</td>\n",
       "      <td>Male</td>\n",
       "      <td>disloyal Customer</td>\n",
       "      <td>34</td>\n",
       "      <td>Business travel</td>\n",
       "      <td>Business</td>\n",
       "      <td>526</td>\n",
       "      <td>3</td>\n",
       "      <td>3</td>\n",
       "      <td>...</td>\n",
       "      <td>4</td>\n",
       "      <td>3</td>\n",
       "      <td>2</td>\n",
       "      <td>4</td>\n",
       "      <td>4</td>\n",
       "      <td>5</td>\n",
       "      <td>4</td>\n",
       "      <td>0</td>\n",
       "      <td>0.0</td>\n",
       "      <td>neutral or dissatisfied</td>\n",
       "    </tr>\n",
       "    <tr>\n",
       "      <th>129876</th>\n",
       "      <td>25972</td>\n",
       "      <td>71167</td>\n",
       "      <td>Male</td>\n",
       "      <td>Loyal Customer</td>\n",
       "      <td>23</td>\n",
       "      <td>Business travel</td>\n",
       "      <td>Business</td>\n",
       "      <td>646</td>\n",
       "      <td>4</td>\n",
       "      <td>4</td>\n",
       "      <td>...</td>\n",
       "      <td>4</td>\n",
       "      <td>4</td>\n",
       "      <td>5</td>\n",
       "      <td>5</td>\n",
       "      <td>5</td>\n",
       "      <td>5</td>\n",
       "      <td>4</td>\n",
       "      <td>0</td>\n",
       "      <td>0.0</td>\n",
       "      <td>satisfied</td>\n",
       "    </tr>\n",
       "    <tr>\n",
       "      <th>129877</th>\n",
       "      <td>25973</td>\n",
       "      <td>37675</td>\n",
       "      <td>Female</td>\n",
       "      <td>Loyal Customer</td>\n",
       "      <td>17</td>\n",
       "      <td>Personal Travel</td>\n",
       "      <td>Eco</td>\n",
       "      <td>828</td>\n",
       "      <td>2</td>\n",
       "      <td>5</td>\n",
       "      <td>...</td>\n",
       "      <td>2</td>\n",
       "      <td>4</td>\n",
       "      <td>3</td>\n",
       "      <td>4</td>\n",
       "      <td>5</td>\n",
       "      <td>4</td>\n",
       "      <td>2</td>\n",
       "      <td>0</td>\n",
       "      <td>0.0</td>\n",
       "      <td>neutral or dissatisfied</td>\n",
       "    </tr>\n",
       "    <tr>\n",
       "      <th>129878</th>\n",
       "      <td>25974</td>\n",
       "      <td>90086</td>\n",
       "      <td>Male</td>\n",
       "      <td>Loyal Customer</td>\n",
       "      <td>14</td>\n",
       "      <td>Business travel</td>\n",
       "      <td>Business</td>\n",
       "      <td>1127</td>\n",
       "      <td>3</td>\n",
       "      <td>3</td>\n",
       "      <td>...</td>\n",
       "      <td>4</td>\n",
       "      <td>3</td>\n",
       "      <td>2</td>\n",
       "      <td>5</td>\n",
       "      <td>4</td>\n",
       "      <td>5</td>\n",
       "      <td>4</td>\n",
       "      <td>0</td>\n",
       "      <td>0.0</td>\n",
       "      <td>satisfied</td>\n",
       "    </tr>\n",
       "    <tr>\n",
       "      <th>129879</th>\n",
       "      <td>25975</td>\n",
       "      <td>34799</td>\n",
       "      <td>Female</td>\n",
       "      <td>Loyal Customer</td>\n",
       "      <td>42</td>\n",
       "      <td>Personal Travel</td>\n",
       "      <td>Eco</td>\n",
       "      <td>264</td>\n",
       "      <td>2</td>\n",
       "      <td>5</td>\n",
       "      <td>...</td>\n",
       "      <td>1</td>\n",
       "      <td>1</td>\n",
       "      <td>2</td>\n",
       "      <td>1</td>\n",
       "      <td>1</td>\n",
       "      <td>1</td>\n",
       "      <td>1</td>\n",
       "      <td>0</td>\n",
       "      <td>0.0</td>\n",
       "      <td>neutral or dissatisfied</td>\n",
       "    </tr>\n",
       "  </tbody>\n",
       "</table>\n",
       "<p>129880 rows × 25 columns</p>\n",
       "</div>"
      ],
      "text/plain": [
       "        Unnamed: 0      id  Gender      Customer Type  Age   Type of Travel  \\\n",
       "0                0   70172    Male     Loyal Customer   13  Personal Travel   \n",
       "1                1    5047    Male  disloyal Customer   25  Business travel   \n",
       "2                2  110028  Female     Loyal Customer   26  Business travel   \n",
       "3                3   24026  Female     Loyal Customer   25  Business travel   \n",
       "4                4  119299    Male     Loyal Customer   61  Business travel   \n",
       "...            ...     ...     ...                ...  ...              ...   \n",
       "129875       25971   78463    Male  disloyal Customer   34  Business travel   \n",
       "129876       25972   71167    Male     Loyal Customer   23  Business travel   \n",
       "129877       25973   37675  Female     Loyal Customer   17  Personal Travel   \n",
       "129878       25974   90086    Male     Loyal Customer   14  Business travel   \n",
       "129879       25975   34799  Female     Loyal Customer   42  Personal Travel   \n",
       "\n",
       "           Class  Flight Distance  Inflight wifi service  \\\n",
       "0       Eco Plus              460                      3   \n",
       "1       Business              235                      3   \n",
       "2       Business             1142                      2   \n",
       "3       Business              562                      2   \n",
       "4       Business              214                      3   \n",
       "...          ...              ...                    ...   \n",
       "129875  Business              526                      3   \n",
       "129876  Business              646                      4   \n",
       "129877       Eco              828                      2   \n",
       "129878  Business             1127                      3   \n",
       "129879       Eco              264                      2   \n",
       "\n",
       "        Departure/Arrival time convenient  ...  Inflight entertainment  \\\n",
       "0                                       4  ...                       5   \n",
       "1                                       2  ...                       1   \n",
       "2                                       2  ...                       5   \n",
       "3                                       5  ...                       2   \n",
       "4                                       3  ...                       3   \n",
       "...                                   ...  ...                     ...   \n",
       "129875                                  3  ...                       4   \n",
       "129876                                  4  ...                       4   \n",
       "129877                                  5  ...                       2   \n",
       "129878                                  3  ...                       4   \n",
       "129879                                  5  ...                       1   \n",
       "\n",
       "        On-board service  Leg room service  Baggage handling  Checkin service  \\\n",
       "0                      4                 3                 4                4   \n",
       "1                      1                 5                 3                1   \n",
       "2                      4                 3                 4                4   \n",
       "3                      2                 5                 3                1   \n",
       "4                      3                 4                 4                3   \n",
       "...                  ...               ...               ...              ...   \n",
       "129875                 3                 2                 4                4   \n",
       "129876                 4                 5                 5                5   \n",
       "129877                 4                 3                 4                5   \n",
       "129878                 3                 2                 5                4   \n",
       "129879                 1                 2                 1                1   \n",
       "\n",
       "        Inflight service  Cleanliness  Departure Delay in Minutes  \\\n",
       "0                      5            5                          25   \n",
       "1                      4            1                           1   \n",
       "2                      4            5                           0   \n",
       "3                      4            2                          11   \n",
       "4                      3            3                           0   \n",
       "...                  ...          ...                         ...   \n",
       "129875                 5            4                           0   \n",
       "129876                 5            4                           0   \n",
       "129877                 4            2                           0   \n",
       "129878                 5            4                           0   \n",
       "129879                 1            1                           0   \n",
       "\n",
       "        Arrival Delay in Minutes             satisfaction  \n",
       "0                           18.0  neutral or dissatisfied  \n",
       "1                            6.0  neutral or dissatisfied  \n",
       "2                            0.0                satisfied  \n",
       "3                            9.0  neutral or dissatisfied  \n",
       "4                            0.0                satisfied  \n",
       "...                          ...                      ...  \n",
       "129875                       0.0  neutral or dissatisfied  \n",
       "129876                       0.0                satisfied  \n",
       "129877                       0.0  neutral or dissatisfied  \n",
       "129878                       0.0                satisfied  \n",
       "129879                       0.0  neutral or dissatisfied  \n",
       "\n",
       "[129880 rows x 25 columns]"
      ]
     },
     "execution_count": 4,
     "metadata": {},
     "output_type": "execute_result"
    }
   ],
   "source": [
    "df"
   ]
  },
  {
   "cell_type": "code",
   "execution_count": 5,
   "metadata": {},
   "outputs": [
    {
     "name": "stdout",
     "output_type": "stream",
     "text": [
      "<class 'pandas.core.frame.DataFrame'>\n",
      "RangeIndex: 129880 entries, 0 to 129879\n",
      "Data columns (total 25 columns):\n",
      " #   Column                             Non-Null Count   Dtype  \n",
      "---  ------                             --------------   -----  \n",
      " 0   Unnamed: 0                         129880 non-null  int64  \n",
      " 1   id                                 129880 non-null  int64  \n",
      " 2   Gender                             129880 non-null  object \n",
      " 3   Customer Type                      129880 non-null  object \n",
      " 4   Age                                129880 non-null  int64  \n",
      " 5   Type of Travel                     129880 non-null  object \n",
      " 6   Class                              129880 non-null  object \n",
      " 7   Flight Distance                    129880 non-null  int64  \n",
      " 8   Inflight wifi service              129880 non-null  int64  \n",
      " 9   Departure/Arrival time convenient  129880 non-null  int64  \n",
      " 10  Ease of Online booking             129880 non-null  int64  \n",
      " 11  Gate location                      129880 non-null  int64  \n",
      " 12  Food and drink                     129880 non-null  int64  \n",
      " 13  Online boarding                    129880 non-null  int64  \n",
      " 14  Seat comfort                       129880 non-null  int64  \n",
      " 15  Inflight entertainment             129880 non-null  int64  \n",
      " 16  On-board service                   129880 non-null  int64  \n",
      " 17  Leg room service                   129880 non-null  int64  \n",
      " 18  Baggage handling                   129880 non-null  int64  \n",
      " 19  Checkin service                    129880 non-null  int64  \n",
      " 20  Inflight service                   129880 non-null  int64  \n",
      " 21  Cleanliness                        129880 non-null  int64  \n",
      " 22  Departure Delay in Minutes         129880 non-null  int64  \n",
      " 23  Arrival Delay in Minutes           129487 non-null  float64\n",
      " 24  satisfaction                       129880 non-null  object \n",
      "dtypes: float64(1), int64(19), object(5)\n",
      "memory usage: 24.8+ MB\n"
     ]
    }
   ],
   "source": [
    "df.info()"
   ]
  },
  {
   "cell_type": "code",
   "execution_count": 6,
   "metadata": {},
   "outputs": [
    {
     "data": {
      "text/html": [
       "<div>\n",
       "<style scoped>\n",
       "    .dataframe tbody tr th:only-of-type {\n",
       "        vertical-align: middle;\n",
       "    }\n",
       "\n",
       "    .dataframe tbody tr th {\n",
       "        vertical-align: top;\n",
       "    }\n",
       "\n",
       "    .dataframe thead th {\n",
       "        text-align: right;\n",
       "    }\n",
       "</style>\n",
       "<table border=\"1\" class=\"dataframe\">\n",
       "  <thead>\n",
       "    <tr style=\"text-align: right;\">\n",
       "      <th></th>\n",
       "      <th>Unnamed: 0</th>\n",
       "      <th>id</th>\n",
       "      <th>Age</th>\n",
       "      <th>Flight Distance</th>\n",
       "      <th>Inflight wifi service</th>\n",
       "      <th>Departure/Arrival time convenient</th>\n",
       "      <th>Ease of Online booking</th>\n",
       "      <th>Gate location</th>\n",
       "      <th>Food and drink</th>\n",
       "      <th>Online boarding</th>\n",
       "      <th>Seat comfort</th>\n",
       "      <th>Inflight entertainment</th>\n",
       "      <th>On-board service</th>\n",
       "      <th>Leg room service</th>\n",
       "      <th>Baggage handling</th>\n",
       "      <th>Checkin service</th>\n",
       "      <th>Inflight service</th>\n",
       "      <th>Cleanliness</th>\n",
       "      <th>Departure Delay in Minutes</th>\n",
       "      <th>Arrival Delay in Minutes</th>\n",
       "    </tr>\n",
       "  </thead>\n",
       "  <tbody>\n",
       "    <tr>\n",
       "      <th>count</th>\n",
       "      <td>129880.000000</td>\n",
       "      <td>129880.000000</td>\n",
       "      <td>129880.000000</td>\n",
       "      <td>129880.000000</td>\n",
       "      <td>129880.000000</td>\n",
       "      <td>129880.000000</td>\n",
       "      <td>129880.000000</td>\n",
       "      <td>129880.000000</td>\n",
       "      <td>129880.000000</td>\n",
       "      <td>129880.000000</td>\n",
       "      <td>129880.000000</td>\n",
       "      <td>129880.000000</td>\n",
       "      <td>129880.000000</td>\n",
       "      <td>129880.000000</td>\n",
       "      <td>129880.000000</td>\n",
       "      <td>129880.000000</td>\n",
       "      <td>129880.000000</td>\n",
       "      <td>129880.000000</td>\n",
       "      <td>129880.000000</td>\n",
       "      <td>129487.000000</td>\n",
       "    </tr>\n",
       "    <tr>\n",
       "      <th>mean</th>\n",
       "      <td>44158.700000</td>\n",
       "      <td>64940.500000</td>\n",
       "      <td>39.427957</td>\n",
       "      <td>1190.316392</td>\n",
       "      <td>2.728696</td>\n",
       "      <td>3.057599</td>\n",
       "      <td>2.756876</td>\n",
       "      <td>2.976925</td>\n",
       "      <td>3.204774</td>\n",
       "      <td>3.252633</td>\n",
       "      <td>3.441361</td>\n",
       "      <td>3.358077</td>\n",
       "      <td>3.383023</td>\n",
       "      <td>3.350878</td>\n",
       "      <td>3.632114</td>\n",
       "      <td>3.306267</td>\n",
       "      <td>3.642193</td>\n",
       "      <td>3.286326</td>\n",
       "      <td>14.713713</td>\n",
       "      <td>15.091129</td>\n",
       "    </tr>\n",
       "    <tr>\n",
       "      <th>std</th>\n",
       "      <td>31207.377062</td>\n",
       "      <td>37493.270818</td>\n",
       "      <td>15.119360</td>\n",
       "      <td>997.452477</td>\n",
       "      <td>1.329340</td>\n",
       "      <td>1.526741</td>\n",
       "      <td>1.401740</td>\n",
       "      <td>1.278520</td>\n",
       "      <td>1.329933</td>\n",
       "      <td>1.350719</td>\n",
       "      <td>1.319289</td>\n",
       "      <td>1.334049</td>\n",
       "      <td>1.287099</td>\n",
       "      <td>1.316252</td>\n",
       "      <td>1.180025</td>\n",
       "      <td>1.266185</td>\n",
       "      <td>1.176669</td>\n",
       "      <td>1.313682</td>\n",
       "      <td>38.071126</td>\n",
       "      <td>38.465650</td>\n",
       "    </tr>\n",
       "    <tr>\n",
       "      <th>min</th>\n",
       "      <td>0.000000</td>\n",
       "      <td>1.000000</td>\n",
       "      <td>7.000000</td>\n",
       "      <td>31.000000</td>\n",
       "      <td>0.000000</td>\n",
       "      <td>0.000000</td>\n",
       "      <td>0.000000</td>\n",
       "      <td>0.000000</td>\n",
       "      <td>0.000000</td>\n",
       "      <td>0.000000</td>\n",
       "      <td>0.000000</td>\n",
       "      <td>0.000000</td>\n",
       "      <td>0.000000</td>\n",
       "      <td>0.000000</td>\n",
       "      <td>1.000000</td>\n",
       "      <td>0.000000</td>\n",
       "      <td>0.000000</td>\n",
       "      <td>0.000000</td>\n",
       "      <td>0.000000</td>\n",
       "      <td>0.000000</td>\n",
       "    </tr>\n",
       "    <tr>\n",
       "      <th>25%</th>\n",
       "      <td>16234.750000</td>\n",
       "      <td>32470.750000</td>\n",
       "      <td>27.000000</td>\n",
       "      <td>414.000000</td>\n",
       "      <td>2.000000</td>\n",
       "      <td>2.000000</td>\n",
       "      <td>2.000000</td>\n",
       "      <td>2.000000</td>\n",
       "      <td>2.000000</td>\n",
       "      <td>2.000000</td>\n",
       "      <td>2.000000</td>\n",
       "      <td>2.000000</td>\n",
       "      <td>2.000000</td>\n",
       "      <td>2.000000</td>\n",
       "      <td>3.000000</td>\n",
       "      <td>3.000000</td>\n",
       "      <td>3.000000</td>\n",
       "      <td>2.000000</td>\n",
       "      <td>0.000000</td>\n",
       "      <td>0.000000</td>\n",
       "    </tr>\n",
       "    <tr>\n",
       "      <th>50%</th>\n",
       "      <td>38963.500000</td>\n",
       "      <td>64940.500000</td>\n",
       "      <td>40.000000</td>\n",
       "      <td>844.000000</td>\n",
       "      <td>3.000000</td>\n",
       "      <td>3.000000</td>\n",
       "      <td>3.000000</td>\n",
       "      <td>3.000000</td>\n",
       "      <td>3.000000</td>\n",
       "      <td>3.000000</td>\n",
       "      <td>4.000000</td>\n",
       "      <td>4.000000</td>\n",
       "      <td>4.000000</td>\n",
       "      <td>4.000000</td>\n",
       "      <td>4.000000</td>\n",
       "      <td>3.000000</td>\n",
       "      <td>4.000000</td>\n",
       "      <td>3.000000</td>\n",
       "      <td>0.000000</td>\n",
       "      <td>0.000000</td>\n",
       "    </tr>\n",
       "    <tr>\n",
       "      <th>75%</th>\n",
       "      <td>71433.250000</td>\n",
       "      <td>97410.250000</td>\n",
       "      <td>51.000000</td>\n",
       "      <td>1744.000000</td>\n",
       "      <td>4.000000</td>\n",
       "      <td>4.000000</td>\n",
       "      <td>4.000000</td>\n",
       "      <td>4.000000</td>\n",
       "      <td>4.000000</td>\n",
       "      <td>4.000000</td>\n",
       "      <td>5.000000</td>\n",
       "      <td>4.000000</td>\n",
       "      <td>4.000000</td>\n",
       "      <td>4.000000</td>\n",
       "      <td>5.000000</td>\n",
       "      <td>4.000000</td>\n",
       "      <td>5.000000</td>\n",
       "      <td>4.000000</td>\n",
       "      <td>12.000000</td>\n",
       "      <td>13.000000</td>\n",
       "    </tr>\n",
       "    <tr>\n",
       "      <th>max</th>\n",
       "      <td>103903.000000</td>\n",
       "      <td>129880.000000</td>\n",
       "      <td>85.000000</td>\n",
       "      <td>4983.000000</td>\n",
       "      <td>5.000000</td>\n",
       "      <td>5.000000</td>\n",
       "      <td>5.000000</td>\n",
       "      <td>5.000000</td>\n",
       "      <td>5.000000</td>\n",
       "      <td>5.000000</td>\n",
       "      <td>5.000000</td>\n",
       "      <td>5.000000</td>\n",
       "      <td>5.000000</td>\n",
       "      <td>5.000000</td>\n",
       "      <td>5.000000</td>\n",
       "      <td>5.000000</td>\n",
       "      <td>5.000000</td>\n",
       "      <td>5.000000</td>\n",
       "      <td>1592.000000</td>\n",
       "      <td>1584.000000</td>\n",
       "    </tr>\n",
       "  </tbody>\n",
       "</table>\n",
       "</div>"
      ],
      "text/plain": [
       "          Unnamed: 0             id            Age  Flight Distance  \\\n",
       "count  129880.000000  129880.000000  129880.000000    129880.000000   \n",
       "mean    44158.700000   64940.500000      39.427957      1190.316392   \n",
       "std     31207.377062   37493.270818      15.119360       997.452477   \n",
       "min         0.000000       1.000000       7.000000        31.000000   \n",
       "25%     16234.750000   32470.750000      27.000000       414.000000   \n",
       "50%     38963.500000   64940.500000      40.000000       844.000000   \n",
       "75%     71433.250000   97410.250000      51.000000      1744.000000   \n",
       "max    103903.000000  129880.000000      85.000000      4983.000000   \n",
       "\n",
       "       Inflight wifi service  Departure/Arrival time convenient  \\\n",
       "count          129880.000000                      129880.000000   \n",
       "mean                2.728696                           3.057599   \n",
       "std                 1.329340                           1.526741   \n",
       "min                 0.000000                           0.000000   \n",
       "25%                 2.000000                           2.000000   \n",
       "50%                 3.000000                           3.000000   \n",
       "75%                 4.000000                           4.000000   \n",
       "max                 5.000000                           5.000000   \n",
       "\n",
       "       Ease of Online booking  Gate location  Food and drink  Online boarding  \\\n",
       "count           129880.000000  129880.000000   129880.000000    129880.000000   \n",
       "mean                 2.756876       2.976925        3.204774         3.252633   \n",
       "std                  1.401740       1.278520        1.329933         1.350719   \n",
       "min                  0.000000       0.000000        0.000000         0.000000   \n",
       "25%                  2.000000       2.000000        2.000000         2.000000   \n",
       "50%                  3.000000       3.000000        3.000000         3.000000   \n",
       "75%                  4.000000       4.000000        4.000000         4.000000   \n",
       "max                  5.000000       5.000000        5.000000         5.000000   \n",
       "\n",
       "        Seat comfort  Inflight entertainment  On-board service  \\\n",
       "count  129880.000000           129880.000000     129880.000000   \n",
       "mean        3.441361                3.358077          3.383023   \n",
       "std         1.319289                1.334049          1.287099   \n",
       "min         0.000000                0.000000          0.000000   \n",
       "25%         2.000000                2.000000          2.000000   \n",
       "50%         4.000000                4.000000          4.000000   \n",
       "75%         5.000000                4.000000          4.000000   \n",
       "max         5.000000                5.000000          5.000000   \n",
       "\n",
       "       Leg room service  Baggage handling  Checkin service  Inflight service  \\\n",
       "count     129880.000000     129880.000000    129880.000000     129880.000000   \n",
       "mean           3.350878          3.632114         3.306267          3.642193   \n",
       "std            1.316252          1.180025         1.266185          1.176669   \n",
       "min            0.000000          1.000000         0.000000          0.000000   \n",
       "25%            2.000000          3.000000         3.000000          3.000000   \n",
       "50%            4.000000          4.000000         3.000000          4.000000   \n",
       "75%            4.000000          5.000000         4.000000          5.000000   \n",
       "max            5.000000          5.000000         5.000000          5.000000   \n",
       "\n",
       "         Cleanliness  Departure Delay in Minutes  Arrival Delay in Minutes  \n",
       "count  129880.000000               129880.000000             129487.000000  \n",
       "mean        3.286326                   14.713713                 15.091129  \n",
       "std         1.313682                   38.071126                 38.465650  \n",
       "min         0.000000                    0.000000                  0.000000  \n",
       "25%         2.000000                    0.000000                  0.000000  \n",
       "50%         3.000000                    0.000000                  0.000000  \n",
       "75%         4.000000                   12.000000                 13.000000  \n",
       "max         5.000000                 1592.000000               1584.000000  "
      ]
     },
     "execution_count": 6,
     "metadata": {},
     "output_type": "execute_result"
    }
   ],
   "source": [
    "df.describe()"
   ]
  },
  {
   "cell_type": "code",
   "execution_count": 7,
   "metadata": {},
   "outputs": [
    {
     "data": {
      "text/plain": [
       "0"
      ]
     },
     "execution_count": 7,
     "metadata": {},
     "output_type": "execute_result"
    }
   ],
   "source": [
    "df.duplicated().sum()"
   ]
  },
  {
   "cell_type": "code",
   "execution_count": 8,
   "metadata": {},
   "outputs": [],
   "source": [
    "#drop unnecessary columns\n",
    "df.drop(columns=['Unnamed: 0','id'],inplace=True)"
   ]
  },
  {
   "cell_type": "code",
   "execution_count": 9,
   "metadata": {},
   "outputs": [
    {
     "data": {
      "text/plain": [
       "Index(['Gender', 'Customer Type', 'Age', 'Type of Travel', 'Class',\n",
       "       'Flight Distance', 'Inflight wifi service',\n",
       "       'Departure/Arrival time convenient', 'Ease of Online booking',\n",
       "       'Gate location', 'Food and drink', 'Online boarding', 'Seat comfort',\n",
       "       'Inflight entertainment', 'On-board service', 'Leg room service',\n",
       "       'Baggage handling', 'Checkin service', 'Inflight service',\n",
       "       'Cleanliness', 'Departure Delay in Minutes', 'Arrival Delay in Minutes',\n",
       "       'satisfaction'],\n",
       "      dtype='object')"
      ]
     },
     "execution_count": 9,
     "metadata": {},
     "output_type": "execute_result"
    }
   ],
   "source": [
    "df.columns"
   ]
  },
  {
   "cell_type": "code",
   "execution_count": 10,
   "metadata": {},
   "outputs": [],
   "source": [
    "# update columns name\n",
    "df.columns = [c.replace(' ', '_') for c in df.columns]\n",
    "df.columns=df.columns.str.lower()\n",
    "# rename columns\n",
    "df.rename(columns={'departure/arrival_time_convenient':'arrival_time_convenient','on-board_service':'on_board_service'},inplace=True)"
   ]
  },
  {
   "cell_type": "code",
   "execution_count": 11,
   "metadata": {},
   "outputs": [
    {
     "data": {
      "text/plain": [
       "Index(['gender', 'customer_type', 'age', 'type_of_travel', 'class',\n",
       "       'flight_distance', 'inflight_wifi_service', 'arrival_time_convenient',\n",
       "       'ease_of_online_booking', 'gate_location', 'food_and_drink',\n",
       "       'online_boarding', 'seat_comfort', 'inflight_entertainment',\n",
       "       'on_board_service', 'leg_room_service', 'baggage_handling',\n",
       "       'checkin_service', 'inflight_service', 'cleanliness',\n",
       "       'departure_delay_in_minutes', 'arrival_delay_in_minutes',\n",
       "       'satisfaction'],\n",
       "      dtype='object')"
      ]
     },
     "execution_count": 11,
     "metadata": {},
     "output_type": "execute_result"
    }
   ],
   "source": [
    "df.columns"
   ]
  },
  {
   "cell_type": "markdown",
   "metadata": {},
   "source": [
    "# Data preprocessing"
   ]
  },
  {
   "cell_type": "code",
   "execution_count": 12,
   "metadata": {},
   "outputs": [
    {
     "data": {
      "text/plain": [
       "gender                          0\n",
       "customer_type                   0\n",
       "age                             0\n",
       "type_of_travel                  0\n",
       "class                           0\n",
       "flight_distance                 0\n",
       "inflight_wifi_service           0\n",
       "arrival_time_convenient         0\n",
       "ease_of_online_booking          0\n",
       "gate_location                   0\n",
       "food_and_drink                  0\n",
       "online_boarding                 0\n",
       "seat_comfort                    0\n",
       "inflight_entertainment          0\n",
       "on_board_service                0\n",
       "leg_room_service                0\n",
       "baggage_handling                0\n",
       "checkin_service                 0\n",
       "inflight_service                0\n",
       "cleanliness                     0\n",
       "departure_delay_in_minutes      0\n",
       "arrival_delay_in_minutes      393\n",
       "satisfaction                    0\n",
       "dtype: int64"
      ]
     },
     "execution_count": 12,
     "metadata": {},
     "output_type": "execute_result"
    }
   ],
   "source": [
    "df.isna().sum()"
   ]
  },
  {
   "cell_type": "code",
   "execution_count": 13,
   "metadata": {},
   "outputs": [
    {
     "data": {
      "text/html": [
       "<div>\n",
       "<style scoped>\n",
       "    .dataframe tbody tr th:only-of-type {\n",
       "        vertical-align: middle;\n",
       "    }\n",
       "\n",
       "    .dataframe tbody tr th {\n",
       "        vertical-align: top;\n",
       "    }\n",
       "\n",
       "    .dataframe thead th {\n",
       "        text-align: right;\n",
       "    }\n",
       "</style>\n",
       "<table border=\"1\" class=\"dataframe\">\n",
       "  <thead>\n",
       "    <tr style=\"text-align: right;\">\n",
       "      <th></th>\n",
       "      <th>age</th>\n",
       "      <th>flight_distance</th>\n",
       "      <th>inflight_wifi_service</th>\n",
       "      <th>arrival_time_convenient</th>\n",
       "      <th>ease_of_online_booking</th>\n",
       "      <th>gate_location</th>\n",
       "      <th>food_and_drink</th>\n",
       "      <th>online_boarding</th>\n",
       "      <th>seat_comfort</th>\n",
       "      <th>inflight_entertainment</th>\n",
       "      <th>on_board_service</th>\n",
       "      <th>leg_room_service</th>\n",
       "      <th>baggage_handling</th>\n",
       "      <th>checkin_service</th>\n",
       "      <th>inflight_service</th>\n",
       "      <th>cleanliness</th>\n",
       "      <th>departure_delay_in_minutes</th>\n",
       "      <th>arrival_delay_in_minutes</th>\n",
       "    </tr>\n",
       "  </thead>\n",
       "  <tbody>\n",
       "    <tr>\n",
       "      <th>age</th>\n",
       "      <td>1.000000</td>\n",
       "      <td>0.099459</td>\n",
       "      <td>0.016116</td>\n",
       "      <td>0.036960</td>\n",
       "      <td>0.022565</td>\n",
       "      <td>-0.000398</td>\n",
       "      <td>0.023194</td>\n",
       "      <td>0.207572</td>\n",
       "      <td>0.159136</td>\n",
       "      <td>0.074947</td>\n",
       "      <td>0.057078</td>\n",
       "      <td>0.039119</td>\n",
       "      <td>-0.047991</td>\n",
       "      <td>0.033475</td>\n",
       "      <td>-0.051347</td>\n",
       "      <td>0.052565</td>\n",
       "      <td>-0.009041</td>\n",
       "      <td>-0.011248</td>\n",
       "    </tr>\n",
       "    <tr>\n",
       "      <th>flight_distance</th>\n",
       "      <td>0.099459</td>\n",
       "      <td>1.000000</td>\n",
       "      <td>0.006701</td>\n",
       "      <td>-0.018914</td>\n",
       "      <td>0.065165</td>\n",
       "      <td>0.005520</td>\n",
       "      <td>0.057066</td>\n",
       "      <td>0.214825</td>\n",
       "      <td>0.157662</td>\n",
       "      <td>0.130507</td>\n",
       "      <td>0.111194</td>\n",
       "      <td>0.134533</td>\n",
       "      <td>0.064855</td>\n",
       "      <td>0.073608</td>\n",
       "      <td>0.059316</td>\n",
       "      <td>0.095648</td>\n",
       "      <td>0.002402</td>\n",
       "      <td>-0.001935</td>\n",
       "    </tr>\n",
       "    <tr>\n",
       "      <th>inflight_wifi_service</th>\n",
       "      <td>0.016116</td>\n",
       "      <td>0.006701</td>\n",
       "      <td>1.000000</td>\n",
       "      <td>0.344915</td>\n",
       "      <td>0.714807</td>\n",
       "      <td>0.338573</td>\n",
       "      <td>0.132214</td>\n",
       "      <td>0.457445</td>\n",
       "      <td>0.121513</td>\n",
       "      <td>0.207802</td>\n",
       "      <td>0.119928</td>\n",
       "      <td>0.160317</td>\n",
       "      <td>0.120376</td>\n",
       "      <td>0.043762</td>\n",
       "      <td>0.110029</td>\n",
       "      <td>0.131300</td>\n",
       "      <td>-0.015946</td>\n",
       "      <td>-0.017749</td>\n",
       "    </tr>\n",
       "    <tr>\n",
       "      <th>arrival_time_convenient</th>\n",
       "      <td>0.036960</td>\n",
       "      <td>-0.018914</td>\n",
       "      <td>0.344915</td>\n",
       "      <td>1.000000</td>\n",
       "      <td>0.437620</td>\n",
       "      <td>0.447510</td>\n",
       "      <td>0.000687</td>\n",
       "      <td>0.072287</td>\n",
       "      <td>0.008666</td>\n",
       "      <td>-0.008380</td>\n",
       "      <td>0.067297</td>\n",
       "      <td>0.010617</td>\n",
       "      <td>0.070833</td>\n",
       "      <td>0.091132</td>\n",
       "      <td>0.072195</td>\n",
       "      <td>0.009862</td>\n",
       "      <td>0.000778</td>\n",
       "      <td>-0.000942</td>\n",
       "    </tr>\n",
       "    <tr>\n",
       "      <th>ease_of_online_booking</th>\n",
       "      <td>0.022565</td>\n",
       "      <td>0.065165</td>\n",
       "      <td>0.714807</td>\n",
       "      <td>0.437620</td>\n",
       "      <td>1.000000</td>\n",
       "      <td>0.460041</td>\n",
       "      <td>0.030514</td>\n",
       "      <td>0.404866</td>\n",
       "      <td>0.028561</td>\n",
       "      <td>0.046564</td>\n",
       "      <td>0.039064</td>\n",
       "      <td>0.109450</td>\n",
       "      <td>0.039148</td>\n",
       "      <td>0.008819</td>\n",
       "      <td>0.035373</td>\n",
       "      <td>0.015125</td>\n",
       "      <td>-0.005318</td>\n",
       "      <td>-0.007033</td>\n",
       "    </tr>\n",
       "    <tr>\n",
       "      <th>gate_location</th>\n",
       "      <td>-0.000398</td>\n",
       "      <td>0.005520</td>\n",
       "      <td>0.338573</td>\n",
       "      <td>0.447510</td>\n",
       "      <td>0.460041</td>\n",
       "      <td>1.000000</td>\n",
       "      <td>-0.002872</td>\n",
       "      <td>0.002756</td>\n",
       "      <td>0.002788</td>\n",
       "      <td>0.002741</td>\n",
       "      <td>-0.029019</td>\n",
       "      <td>-0.005181</td>\n",
       "      <td>0.000972</td>\n",
       "      <td>-0.039353</td>\n",
       "      <td>0.000310</td>\n",
       "      <td>-0.005918</td>\n",
       "      <td>0.005973</td>\n",
       "      <td>0.005658</td>\n",
       "    </tr>\n",
       "    <tr>\n",
       "      <th>food_and_drink</th>\n",
       "      <td>0.023194</td>\n",
       "      <td>0.057066</td>\n",
       "      <td>0.132214</td>\n",
       "      <td>0.000687</td>\n",
       "      <td>0.030514</td>\n",
       "      <td>-0.002872</td>\n",
       "      <td>1.000000</td>\n",
       "      <td>0.233500</td>\n",
       "      <td>0.575846</td>\n",
       "      <td>0.623461</td>\n",
       "      <td>0.057404</td>\n",
       "      <td>0.033173</td>\n",
       "      <td>0.035321</td>\n",
       "      <td>0.085198</td>\n",
       "      <td>0.035210</td>\n",
       "      <td>0.658054</td>\n",
       "      <td>-0.029164</td>\n",
       "      <td>-0.031715</td>\n",
       "    </tr>\n",
       "    <tr>\n",
       "      <th>online_boarding</th>\n",
       "      <td>0.207572</td>\n",
       "      <td>0.214825</td>\n",
       "      <td>0.457445</td>\n",
       "      <td>0.072287</td>\n",
       "      <td>0.404866</td>\n",
       "      <td>0.002756</td>\n",
       "      <td>0.233500</td>\n",
       "      <td>1.000000</td>\n",
       "      <td>0.419253</td>\n",
       "      <td>0.283922</td>\n",
       "      <td>0.154242</td>\n",
       "      <td>0.123225</td>\n",
       "      <td>0.083541</td>\n",
       "      <td>0.204238</td>\n",
       "      <td>0.074058</td>\n",
       "      <td>0.329377</td>\n",
       "      <td>-0.019404</td>\n",
       "      <td>-0.022730</td>\n",
       "    </tr>\n",
       "    <tr>\n",
       "      <th>seat_comfort</th>\n",
       "      <td>0.159136</td>\n",
       "      <td>0.157662</td>\n",
       "      <td>0.121513</td>\n",
       "      <td>0.008666</td>\n",
       "      <td>0.028561</td>\n",
       "      <td>0.002788</td>\n",
       "      <td>0.575846</td>\n",
       "      <td>0.419253</td>\n",
       "      <td>1.000000</td>\n",
       "      <td>0.611837</td>\n",
       "      <td>0.130545</td>\n",
       "      <td>0.104272</td>\n",
       "      <td>0.074620</td>\n",
       "      <td>0.189979</td>\n",
       "      <td>0.068842</td>\n",
       "      <td>0.679613</td>\n",
       "      <td>-0.027999</td>\n",
       "      <td>-0.030521</td>\n",
       "    </tr>\n",
       "    <tr>\n",
       "      <th>inflight_entertainment</th>\n",
       "      <td>0.074947</td>\n",
       "      <td>0.130507</td>\n",
       "      <td>0.207802</td>\n",
       "      <td>-0.008380</td>\n",
       "      <td>0.046564</td>\n",
       "      <td>0.002741</td>\n",
       "      <td>0.623461</td>\n",
       "      <td>0.283922</td>\n",
       "      <td>0.611837</td>\n",
       "      <td>1.000000</td>\n",
       "      <td>0.418574</td>\n",
       "      <td>0.300397</td>\n",
       "      <td>0.379123</td>\n",
       "      <td>0.119554</td>\n",
       "      <td>0.406094</td>\n",
       "      <td>0.692511</td>\n",
       "      <td>-0.027012</td>\n",
       "      <td>-0.030230</td>\n",
       "    </tr>\n",
       "    <tr>\n",
       "      <th>on_board_service</th>\n",
       "      <td>0.057078</td>\n",
       "      <td>0.111194</td>\n",
       "      <td>0.119928</td>\n",
       "      <td>0.067297</td>\n",
       "      <td>0.039064</td>\n",
       "      <td>-0.029019</td>\n",
       "      <td>0.057404</td>\n",
       "      <td>0.154242</td>\n",
       "      <td>0.130545</td>\n",
       "      <td>0.418574</td>\n",
       "      <td>1.000000</td>\n",
       "      <td>0.357721</td>\n",
       "      <td>0.520296</td>\n",
       "      <td>0.244619</td>\n",
       "      <td>0.551569</td>\n",
       "      <td>0.122084</td>\n",
       "      <td>-0.030486</td>\n",
       "      <td>-0.034789</td>\n",
       "    </tr>\n",
       "    <tr>\n",
       "      <th>leg_room_service</th>\n",
       "      <td>0.039119</td>\n",
       "      <td>0.134533</td>\n",
       "      <td>0.160317</td>\n",
       "      <td>0.010617</td>\n",
       "      <td>0.109450</td>\n",
       "      <td>-0.005181</td>\n",
       "      <td>0.033173</td>\n",
       "      <td>0.123225</td>\n",
       "      <td>0.104272</td>\n",
       "      <td>0.300397</td>\n",
       "      <td>0.357721</td>\n",
       "      <td>1.000000</td>\n",
       "      <td>0.371455</td>\n",
       "      <td>0.152693</td>\n",
       "      <td>0.369569</td>\n",
       "      <td>0.096695</td>\n",
       "      <td>0.014574</td>\n",
       "      <td>0.011346</td>\n",
       "    </tr>\n",
       "    <tr>\n",
       "      <th>baggage_handling</th>\n",
       "      <td>-0.047991</td>\n",
       "      <td>0.064855</td>\n",
       "      <td>0.120376</td>\n",
       "      <td>0.070833</td>\n",
       "      <td>0.039148</td>\n",
       "      <td>0.000972</td>\n",
       "      <td>0.035321</td>\n",
       "      <td>0.083541</td>\n",
       "      <td>0.074620</td>\n",
       "      <td>0.379123</td>\n",
       "      <td>0.520296</td>\n",
       "      <td>0.371455</td>\n",
       "      <td>1.000000</td>\n",
       "      <td>0.234503</td>\n",
       "      <td>0.629237</td>\n",
       "      <td>0.097071</td>\n",
       "      <td>-0.004105</td>\n",
       "      <td>-0.007935</td>\n",
       "    </tr>\n",
       "    <tr>\n",
       "      <th>checkin_service</th>\n",
       "      <td>0.033475</td>\n",
       "      <td>0.073608</td>\n",
       "      <td>0.043762</td>\n",
       "      <td>0.091132</td>\n",
       "      <td>0.008819</td>\n",
       "      <td>-0.039353</td>\n",
       "      <td>0.085198</td>\n",
       "      <td>0.204238</td>\n",
       "      <td>0.189979</td>\n",
       "      <td>0.119554</td>\n",
       "      <td>0.244619</td>\n",
       "      <td>0.152693</td>\n",
       "      <td>0.234503</td>\n",
       "      <td>1.000000</td>\n",
       "      <td>0.237601</td>\n",
       "      <td>0.176658</td>\n",
       "      <td>-0.018752</td>\n",
       "      <td>-0.021705</td>\n",
       "    </tr>\n",
       "    <tr>\n",
       "      <th>inflight_service</th>\n",
       "      <td>-0.051347</td>\n",
       "      <td>0.059316</td>\n",
       "      <td>0.110029</td>\n",
       "      <td>0.072195</td>\n",
       "      <td>0.035373</td>\n",
       "      <td>0.000310</td>\n",
       "      <td>0.035210</td>\n",
       "      <td>0.074058</td>\n",
       "      <td>0.068842</td>\n",
       "      <td>0.406094</td>\n",
       "      <td>0.551569</td>\n",
       "      <td>0.369569</td>\n",
       "      <td>0.629237</td>\n",
       "      <td>0.237601</td>\n",
       "      <td>1.000000</td>\n",
       "      <td>0.090356</td>\n",
       "      <td>-0.054432</td>\n",
       "      <td>-0.059853</td>\n",
       "    </tr>\n",
       "    <tr>\n",
       "      <th>cleanliness</th>\n",
       "      <td>0.052565</td>\n",
       "      <td>0.095648</td>\n",
       "      <td>0.131300</td>\n",
       "      <td>0.009862</td>\n",
       "      <td>0.015125</td>\n",
       "      <td>-0.005918</td>\n",
       "      <td>0.658054</td>\n",
       "      <td>0.329377</td>\n",
       "      <td>0.679613</td>\n",
       "      <td>0.692511</td>\n",
       "      <td>0.122084</td>\n",
       "      <td>0.096695</td>\n",
       "      <td>0.097071</td>\n",
       "      <td>0.176658</td>\n",
       "      <td>0.090356</td>\n",
       "      <td>1.000000</td>\n",
       "      <td>-0.014543</td>\n",
       "      <td>-0.016546</td>\n",
       "    </tr>\n",
       "    <tr>\n",
       "      <th>departure_delay_in_minutes</th>\n",
       "      <td>-0.009041</td>\n",
       "      <td>0.002402</td>\n",
       "      <td>-0.015946</td>\n",
       "      <td>0.000778</td>\n",
       "      <td>-0.005318</td>\n",
       "      <td>0.005973</td>\n",
       "      <td>-0.029164</td>\n",
       "      <td>-0.019404</td>\n",
       "      <td>-0.027999</td>\n",
       "      <td>-0.027012</td>\n",
       "      <td>-0.030486</td>\n",
       "      <td>0.014574</td>\n",
       "      <td>-0.004105</td>\n",
       "      <td>-0.018752</td>\n",
       "      <td>-0.054432</td>\n",
       "      <td>-0.014543</td>\n",
       "      <td>1.000000</td>\n",
       "      <td>0.965291</td>\n",
       "    </tr>\n",
       "    <tr>\n",
       "      <th>arrival_delay_in_minutes</th>\n",
       "      <td>-0.011248</td>\n",
       "      <td>-0.001935</td>\n",
       "      <td>-0.017749</td>\n",
       "      <td>-0.000942</td>\n",
       "      <td>-0.007033</td>\n",
       "      <td>0.005658</td>\n",
       "      <td>-0.031715</td>\n",
       "      <td>-0.022730</td>\n",
       "      <td>-0.030521</td>\n",
       "      <td>-0.030230</td>\n",
       "      <td>-0.034789</td>\n",
       "      <td>0.011346</td>\n",
       "      <td>-0.007935</td>\n",
       "      <td>-0.021705</td>\n",
       "      <td>-0.059853</td>\n",
       "      <td>-0.016546</td>\n",
       "      <td>0.965291</td>\n",
       "      <td>1.000000</td>\n",
       "    </tr>\n",
       "  </tbody>\n",
       "</table>\n",
       "</div>"
      ],
      "text/plain": [
       "                                 age  flight_distance  inflight_wifi_service  \\\n",
       "age                         1.000000         0.099459               0.016116   \n",
       "flight_distance             0.099459         1.000000               0.006701   \n",
       "inflight_wifi_service       0.016116         0.006701               1.000000   \n",
       "arrival_time_convenient     0.036960        -0.018914               0.344915   \n",
       "ease_of_online_booking      0.022565         0.065165               0.714807   \n",
       "gate_location              -0.000398         0.005520               0.338573   \n",
       "food_and_drink              0.023194         0.057066               0.132214   \n",
       "online_boarding             0.207572         0.214825               0.457445   \n",
       "seat_comfort                0.159136         0.157662               0.121513   \n",
       "inflight_entertainment      0.074947         0.130507               0.207802   \n",
       "on_board_service            0.057078         0.111194               0.119928   \n",
       "leg_room_service            0.039119         0.134533               0.160317   \n",
       "baggage_handling           -0.047991         0.064855               0.120376   \n",
       "checkin_service             0.033475         0.073608               0.043762   \n",
       "inflight_service           -0.051347         0.059316               0.110029   \n",
       "cleanliness                 0.052565         0.095648               0.131300   \n",
       "departure_delay_in_minutes -0.009041         0.002402              -0.015946   \n",
       "arrival_delay_in_minutes   -0.011248        -0.001935              -0.017749   \n",
       "\n",
       "                            arrival_time_convenient  ease_of_online_booking  \\\n",
       "age                                        0.036960                0.022565   \n",
       "flight_distance                           -0.018914                0.065165   \n",
       "inflight_wifi_service                      0.344915                0.714807   \n",
       "arrival_time_convenient                    1.000000                0.437620   \n",
       "ease_of_online_booking                     0.437620                1.000000   \n",
       "gate_location                              0.447510                0.460041   \n",
       "food_and_drink                             0.000687                0.030514   \n",
       "online_boarding                            0.072287                0.404866   \n",
       "seat_comfort                               0.008666                0.028561   \n",
       "inflight_entertainment                    -0.008380                0.046564   \n",
       "on_board_service                           0.067297                0.039064   \n",
       "leg_room_service                           0.010617                0.109450   \n",
       "baggage_handling                           0.070833                0.039148   \n",
       "checkin_service                            0.091132                0.008819   \n",
       "inflight_service                           0.072195                0.035373   \n",
       "cleanliness                                0.009862                0.015125   \n",
       "departure_delay_in_minutes                 0.000778               -0.005318   \n",
       "arrival_delay_in_minutes                  -0.000942               -0.007033   \n",
       "\n",
       "                            gate_location  food_and_drink  online_boarding  \\\n",
       "age                             -0.000398        0.023194         0.207572   \n",
       "flight_distance                  0.005520        0.057066         0.214825   \n",
       "inflight_wifi_service            0.338573        0.132214         0.457445   \n",
       "arrival_time_convenient          0.447510        0.000687         0.072287   \n",
       "ease_of_online_booking           0.460041        0.030514         0.404866   \n",
       "gate_location                    1.000000       -0.002872         0.002756   \n",
       "food_and_drink                  -0.002872        1.000000         0.233500   \n",
       "online_boarding                  0.002756        0.233500         1.000000   \n",
       "seat_comfort                     0.002788        0.575846         0.419253   \n",
       "inflight_entertainment           0.002741        0.623461         0.283922   \n",
       "on_board_service                -0.029019        0.057404         0.154242   \n",
       "leg_room_service                -0.005181        0.033173         0.123225   \n",
       "baggage_handling                 0.000972        0.035321         0.083541   \n",
       "checkin_service                 -0.039353        0.085198         0.204238   \n",
       "inflight_service                 0.000310        0.035210         0.074058   \n",
       "cleanliness                     -0.005918        0.658054         0.329377   \n",
       "departure_delay_in_minutes       0.005973       -0.029164        -0.019404   \n",
       "arrival_delay_in_minutes         0.005658       -0.031715        -0.022730   \n",
       "\n",
       "                            seat_comfort  inflight_entertainment  \\\n",
       "age                             0.159136                0.074947   \n",
       "flight_distance                 0.157662                0.130507   \n",
       "inflight_wifi_service           0.121513                0.207802   \n",
       "arrival_time_convenient         0.008666               -0.008380   \n",
       "ease_of_online_booking          0.028561                0.046564   \n",
       "gate_location                   0.002788                0.002741   \n",
       "food_and_drink                  0.575846                0.623461   \n",
       "online_boarding                 0.419253                0.283922   \n",
       "seat_comfort                    1.000000                0.611837   \n",
       "inflight_entertainment          0.611837                1.000000   \n",
       "on_board_service                0.130545                0.418574   \n",
       "leg_room_service                0.104272                0.300397   \n",
       "baggage_handling                0.074620                0.379123   \n",
       "checkin_service                 0.189979                0.119554   \n",
       "inflight_service                0.068842                0.406094   \n",
       "cleanliness                     0.679613                0.692511   \n",
       "departure_delay_in_minutes     -0.027999               -0.027012   \n",
       "arrival_delay_in_minutes       -0.030521               -0.030230   \n",
       "\n",
       "                            on_board_service  leg_room_service  \\\n",
       "age                                 0.057078          0.039119   \n",
       "flight_distance                     0.111194          0.134533   \n",
       "inflight_wifi_service               0.119928          0.160317   \n",
       "arrival_time_convenient             0.067297          0.010617   \n",
       "ease_of_online_booking              0.039064          0.109450   \n",
       "gate_location                      -0.029019         -0.005181   \n",
       "food_and_drink                      0.057404          0.033173   \n",
       "online_boarding                     0.154242          0.123225   \n",
       "seat_comfort                        0.130545          0.104272   \n",
       "inflight_entertainment              0.418574          0.300397   \n",
       "on_board_service                    1.000000          0.357721   \n",
       "leg_room_service                    0.357721          1.000000   \n",
       "baggage_handling                    0.520296          0.371455   \n",
       "checkin_service                     0.244619          0.152693   \n",
       "inflight_service                    0.551569          0.369569   \n",
       "cleanliness                         0.122084          0.096695   \n",
       "departure_delay_in_minutes         -0.030486          0.014574   \n",
       "arrival_delay_in_minutes           -0.034789          0.011346   \n",
       "\n",
       "                            baggage_handling  checkin_service  \\\n",
       "age                                -0.047991         0.033475   \n",
       "flight_distance                     0.064855         0.073608   \n",
       "inflight_wifi_service               0.120376         0.043762   \n",
       "arrival_time_convenient             0.070833         0.091132   \n",
       "ease_of_online_booking              0.039148         0.008819   \n",
       "gate_location                       0.000972        -0.039353   \n",
       "food_and_drink                      0.035321         0.085198   \n",
       "online_boarding                     0.083541         0.204238   \n",
       "seat_comfort                        0.074620         0.189979   \n",
       "inflight_entertainment              0.379123         0.119554   \n",
       "on_board_service                    0.520296         0.244619   \n",
       "leg_room_service                    0.371455         0.152693   \n",
       "baggage_handling                    1.000000         0.234503   \n",
       "checkin_service                     0.234503         1.000000   \n",
       "inflight_service                    0.629237         0.237601   \n",
       "cleanliness                         0.097071         0.176658   \n",
       "departure_delay_in_minutes         -0.004105        -0.018752   \n",
       "arrival_delay_in_minutes           -0.007935        -0.021705   \n",
       "\n",
       "                            inflight_service  cleanliness  \\\n",
       "age                                -0.051347     0.052565   \n",
       "flight_distance                     0.059316     0.095648   \n",
       "inflight_wifi_service               0.110029     0.131300   \n",
       "arrival_time_convenient             0.072195     0.009862   \n",
       "ease_of_online_booking              0.035373     0.015125   \n",
       "gate_location                       0.000310    -0.005918   \n",
       "food_and_drink                      0.035210     0.658054   \n",
       "online_boarding                     0.074058     0.329377   \n",
       "seat_comfort                        0.068842     0.679613   \n",
       "inflight_entertainment              0.406094     0.692511   \n",
       "on_board_service                    0.551569     0.122084   \n",
       "leg_room_service                    0.369569     0.096695   \n",
       "baggage_handling                    0.629237     0.097071   \n",
       "checkin_service                     0.237601     0.176658   \n",
       "inflight_service                    1.000000     0.090356   \n",
       "cleanliness                         0.090356     1.000000   \n",
       "departure_delay_in_minutes         -0.054432    -0.014543   \n",
       "arrival_delay_in_minutes           -0.059853    -0.016546   \n",
       "\n",
       "                            departure_delay_in_minutes  \\\n",
       "age                                          -0.009041   \n",
       "flight_distance                               0.002402   \n",
       "inflight_wifi_service                        -0.015946   \n",
       "arrival_time_convenient                       0.000778   \n",
       "ease_of_online_booking                       -0.005318   \n",
       "gate_location                                 0.005973   \n",
       "food_and_drink                               -0.029164   \n",
       "online_boarding                              -0.019404   \n",
       "seat_comfort                                 -0.027999   \n",
       "inflight_entertainment                       -0.027012   \n",
       "on_board_service                             -0.030486   \n",
       "leg_room_service                              0.014574   \n",
       "baggage_handling                             -0.004105   \n",
       "checkin_service                              -0.018752   \n",
       "inflight_service                             -0.054432   \n",
       "cleanliness                                  -0.014543   \n",
       "departure_delay_in_minutes                    1.000000   \n",
       "arrival_delay_in_minutes                      0.965291   \n",
       "\n",
       "                            arrival_delay_in_minutes  \n",
       "age                                        -0.011248  \n",
       "flight_distance                            -0.001935  \n",
       "inflight_wifi_service                      -0.017749  \n",
       "arrival_time_convenient                    -0.000942  \n",
       "ease_of_online_booking                     -0.007033  \n",
       "gate_location                               0.005658  \n",
       "food_and_drink                             -0.031715  \n",
       "online_boarding                            -0.022730  \n",
       "seat_comfort                               -0.030521  \n",
       "inflight_entertainment                     -0.030230  \n",
       "on_board_service                           -0.034789  \n",
       "leg_room_service                            0.011346  \n",
       "baggage_handling                           -0.007935  \n",
       "checkin_service                            -0.021705  \n",
       "inflight_service                           -0.059853  \n",
       "cleanliness                                -0.016546  \n",
       "departure_delay_in_minutes                  0.965291  \n",
       "arrival_delay_in_minutes                    1.000000  "
      ]
     },
     "execution_count": 13,
     "metadata": {},
     "output_type": "execute_result"
    }
   ],
   "source": [
    "# the correlations between numerical columns\n",
    "df.corr()"
   ]
  },
  {
   "cell_type": "code",
   "execution_count": 14,
   "metadata": {},
   "outputs": [
    {
     "data": {
      "image/png": "[encoded data removed]",
      "text/plain": [
       "<Figure size 432x288 with 1 Axes>"
      ]
     },
     "metadata": {
      "needs_background": "light"
     },
     "output_type": "display_data"
    }
   ],
   "source": [
    "fig=plt.scatter(x=df['departure_delay_in_minutes'],y=df['arrival_delay_in_minutes'])\n",
    "plt.xlabel('Departure Delay (minutes)')\n",
    "plt.ylabel('Arrival Delay (minutes)')\n",
    "plt.title('Departure Delay vs Arrival Delay')\n",
    "plt.show()"
   ]
  },
  {
   "cell_type": "raw",
   "metadata": {},
   "source": [
    "we can see that ,There is a strong correlation between departure_delay_in_minutes and arrival_delay_in_minutes.\n",
    "we can drop one of the two columns and as Arrival Delay in Minutes column has some null , we can drop it"
   ]
  },
  {
   "cell_type": "code",
   "execution_count": 15,
   "metadata": {},
   "outputs": [],
   "source": [
    "df.drop(columns=['arrival_delay_in_minutes'],inplace=True)"
   ]
  },
  {
   "cell_type": "code",
   "execution_count": 16,
   "metadata": {},
   "outputs": [
    {
     "data": {
      "text/html": [
       "<div>\n",
       "<style scoped>\n",
       "    .dataframe tbody tr th:only-of-type {\n",
       "        vertical-align: middle;\n",
       "    }\n",
       "\n",
       "    .dataframe tbody tr th {\n",
       "        vertical-align: top;\n",
       "    }\n",
       "\n",
       "    .dataframe thead th {\n",
       "        text-align: right;\n",
       "    }\n",
       "</style>\n",
       "<table border=\"1\" class=\"dataframe\">\n",
       "  <thead>\n",
       "    <tr style=\"text-align: right;\">\n",
       "      <th></th>\n",
       "      <th>gender</th>\n",
       "      <th>customer_type</th>\n",
       "      <th>age</th>\n",
       "      <th>type_of_travel</th>\n",
       "      <th>class</th>\n",
       "      <th>flight_distance</th>\n",
       "      <th>inflight_wifi_service</th>\n",
       "      <th>arrival_time_convenient</th>\n",
       "      <th>ease_of_online_booking</th>\n",
       "      <th>gate_location</th>\n",
       "      <th>...</th>\n",
       "      <th>seat_comfort</th>\n",
       "      <th>inflight_entertainment</th>\n",
       "      <th>on_board_service</th>\n",
       "      <th>leg_room_service</th>\n",
       "      <th>baggage_handling</th>\n",
       "      <th>checkin_service</th>\n",
       "      <th>inflight_service</th>\n",
       "      <th>cleanliness</th>\n",
       "      <th>departure_delay_in_minutes</th>\n",
       "      <th>satisfaction</th>\n",
       "    </tr>\n",
       "  </thead>\n",
       "  <tbody>\n",
       "    <tr>\n",
       "      <th>0</th>\n",
       "      <td>Male</td>\n",
       "      <td>Loyal Customer</td>\n",
       "      <td>13</td>\n",
       "      <td>Personal Travel</td>\n",
       "      <td>Eco Plus</td>\n",
       "      <td>460</td>\n",
       "      <td>3</td>\n",
       "      <td>4</td>\n",
       "      <td>3</td>\n",
       "      <td>1</td>\n",
       "      <td>...</td>\n",
       "      <td>5</td>\n",
       "      <td>5</td>\n",
       "      <td>4</td>\n",
       "      <td>3</td>\n",
       "      <td>4</td>\n",
       "      <td>4</td>\n",
       "      <td>5</td>\n",
       "      <td>5</td>\n",
       "      <td>25</td>\n",
       "      <td>neutral or dissatisfied</td>\n",
       "    </tr>\n",
       "    <tr>\n",
       "      <th>1</th>\n",
       "      <td>Male</td>\n",
       "      <td>disloyal Customer</td>\n",
       "      <td>25</td>\n",
       "      <td>Business travel</td>\n",
       "      <td>Business</td>\n",
       "      <td>235</td>\n",
       "      <td>3</td>\n",
       "      <td>2</td>\n",
       "      <td>3</td>\n",
       "      <td>3</td>\n",
       "      <td>...</td>\n",
       "      <td>1</td>\n",
       "      <td>1</td>\n",
       "      <td>1</td>\n",
       "      <td>5</td>\n",
       "      <td>3</td>\n",
       "      <td>1</td>\n",
       "      <td>4</td>\n",
       "      <td>1</td>\n",
       "      <td>1</td>\n",
       "      <td>neutral or dissatisfied</td>\n",
       "    </tr>\n",
       "    <tr>\n",
       "      <th>2</th>\n",
       "      <td>Female</td>\n",
       "      <td>Loyal Customer</td>\n",
       "      <td>26</td>\n",
       "      <td>Business travel</td>\n",
       "      <td>Business</td>\n",
       "      <td>1142</td>\n",
       "      <td>2</td>\n",
       "      <td>2</td>\n",
       "      <td>2</td>\n",
       "      <td>2</td>\n",
       "      <td>...</td>\n",
       "      <td>5</td>\n",
       "      <td>5</td>\n",
       "      <td>4</td>\n",
       "      <td>3</td>\n",
       "      <td>4</td>\n",
       "      <td>4</td>\n",
       "      <td>4</td>\n",
       "      <td>5</td>\n",
       "      <td>0</td>\n",
       "      <td>satisfied</td>\n",
       "    </tr>\n",
       "    <tr>\n",
       "      <th>3</th>\n",
       "      <td>Female</td>\n",
       "      <td>Loyal Customer</td>\n",
       "      <td>25</td>\n",
       "      <td>Business travel</td>\n",
       "      <td>Business</td>\n",
       "      <td>562</td>\n",
       "      <td>2</td>\n",
       "      <td>5</td>\n",
       "      <td>5</td>\n",
       "      <td>5</td>\n",
       "      <td>...</td>\n",
       "      <td>2</td>\n",
       "      <td>2</td>\n",
       "      <td>2</td>\n",
       "      <td>5</td>\n",
       "      <td>3</td>\n",
       "      <td>1</td>\n",
       "      <td>4</td>\n",
       "      <td>2</td>\n",
       "      <td>11</td>\n",
       "      <td>neutral or dissatisfied</td>\n",
       "    </tr>\n",
       "    <tr>\n",
       "      <th>4</th>\n",
       "      <td>Male</td>\n",
       "      <td>Loyal Customer</td>\n",
       "      <td>61</td>\n",
       "      <td>Business travel</td>\n",
       "      <td>Business</td>\n",
       "      <td>214</td>\n",
       "      <td>3</td>\n",
       "      <td>3</td>\n",
       "      <td>3</td>\n",
       "      <td>3</td>\n",
       "      <td>...</td>\n",
       "      <td>5</td>\n",
       "      <td>3</td>\n",
       "      <td>3</td>\n",
       "      <td>4</td>\n",
       "      <td>4</td>\n",
       "      <td>3</td>\n",
       "      <td>3</td>\n",
       "      <td>3</td>\n",
       "      <td>0</td>\n",
       "      <td>satisfied</td>\n",
       "    </tr>\n",
       "  </tbody>\n",
       "</table>\n",
       "<p>5 rows × 22 columns</p>\n",
       "</div>"
      ],
      "text/plain": [
       "   gender      customer_type  age   type_of_travel     class  flight_distance  \\\n",
       "0    Male     Loyal Customer   13  Personal Travel  Eco Plus              460   \n",
       "1    Male  disloyal Customer   25  Business travel  Business              235   \n",
       "2  Female     Loyal Customer   26  Business travel  Business             1142   \n",
       "3  Female     Loyal Customer   25  Business travel  Business              562   \n",
       "4    Male     Loyal Customer   61  Business travel  Business              214   \n",
       "\n",
       "   inflight_wifi_service  arrival_time_convenient  ease_of_online_booking  \\\n",
       "0                      3                        4                       3   \n",
       "1                      3                        2                       3   \n",
       "2                      2                        2                       2   \n",
       "3                      2                        5                       5   \n",
       "4                      3                        3                       3   \n",
       "\n",
       "   gate_location  ...  seat_comfort  inflight_entertainment  on_board_service  \\\n",
       "0              1  ...             5                       5                 4   \n",
       "1              3  ...             1                       1                 1   \n",
       "2              2  ...             5                       5                 4   \n",
       "3              5  ...             2                       2                 2   \n",
       "4              3  ...             5                       3                 3   \n",
       "\n",
       "   leg_room_service  baggage_handling  checkin_service  inflight_service  \\\n",
       "0                 3                 4                4                 5   \n",
       "1                 5                 3                1                 4   \n",
       "2                 3                 4                4                 4   \n",
       "3                 5                 3                1                 4   \n",
       "4                 4                 4                3                 3   \n",
       "\n",
       "   cleanliness  departure_delay_in_minutes             satisfaction  \n",
       "0            5                          25  neutral or dissatisfied  \n",
       "1            1                           1  neutral or dissatisfied  \n",
       "2            5                           0                satisfied  \n",
       "3            2                          11  neutral or dissatisfied  \n",
       "4            3                           0                satisfied  \n",
       "\n",
       "[5 rows x 22 columns]"
      ]
     },
     "execution_count": 16,
     "metadata": {},
     "output_type": "execute_result"
    }
   ],
   "source": [
    "df.head()"
   ]
  },
  {
   "cell_type": "code",
   "execution_count": 17,
   "metadata": {},
   "outputs": [],
   "source": [
    "#Divide into Categorical and Numerical Columns"
   ]
  },
  {
   "cell_type": "code",
   "execution_count": 18,
   "metadata": {},
   "outputs": [
    {
     "name": "stdout",
     "output_type": "stream",
     "text": [
      "Categorical Columns :  ['gender', 'customer_type', 'type_of_travel', 'class']\n",
      "Numerical Columns :  ['age', 'flight_distance', 'inflight_wifi_service', 'arrival_time_convenient', 'ease_of_online_booking', 'gate_location', 'food_and_drink', 'online_boarding', 'seat_comfort', 'inflight_entertainment', 'on_board_service', 'leg_room_service', 'baggage_handling', 'checkin_service', 'inflight_service', 'cleanliness', 'departure_delay_in_minutes']\n"
     ]
    }
   ],
   "source": [
    "\n",
    "cat_columns = []\n",
    "num_columns = []\n",
    "\n",
    "for col in df.columns[:-1]:\n",
    "    if df[col].dtype == \"object\":\n",
    "        cat_columns.append(col)\n",
    "    else:\n",
    "        num_columns.append(col)\n",
    "\n",
    "print(\"Categorical Columns : \",cat_columns)\n",
    "print(\"Numerical Columns : \",num_columns)"
   ]
  },
  {
   "cell_type": "code",
   "execution_count": 19,
   "metadata": {},
   "outputs": [
    {
     "name": "stdout",
     "output_type": "stream",
     "text": [
      "age\n",
      "No. of IQR-based outliers: 0\n",
      "--------------------------------\n",
      "flight_distance\n",
      "No. of IQR-based outliers: 2855\n",
      "--------------------------------\n",
      "inflight_wifi_service\n",
      "No. of IQR-based outliers: 0\n",
      "--------------------------------\n",
      "arrival_time_convenient\n",
      "No. of IQR-based outliers: 0\n",
      "--------------------------------\n",
      "ease_of_online_booking\n",
      "No. of IQR-based outliers: 0\n",
      "--------------------------------\n",
      "gate_location\n",
      "No. of IQR-based outliers: 0\n",
      "--------------------------------\n",
      "food_and_drink\n",
      "No. of IQR-based outliers: 0\n",
      "--------------------------------\n",
      "online_boarding\n",
      "No. of IQR-based outliers: 0\n",
      "--------------------------------\n",
      "seat_comfort\n",
      "No. of IQR-based outliers: 0\n",
      "--------------------------------\n",
      "inflight_entertainment\n",
      "No. of IQR-based outliers: 0\n",
      "--------------------------------\n",
      "on_board_service\n",
      "No. of IQR-based outliers: 0\n",
      "--------------------------------\n",
      "leg_room_service\n",
      "No. of IQR-based outliers: 0\n",
      "--------------------------------\n",
      "baggage_handling\n",
      "No. of IQR-based outliers: 0\n",
      "--------------------------------\n",
      "checkin_service\n",
      "No. of IQR-based outliers: 16109\n",
      "--------------------------------\n",
      "inflight_service\n",
      "No. of IQR-based outliers: 0\n",
      "--------------------------------\n",
      "cleanliness\n",
      "No. of IQR-based outliers: 0\n",
      "--------------------------------\n",
      "departure_delay_in_minutes\n",
      "No. of IQR-based outliers: 18098\n",
      "--------------------------------\n"
     ]
    }
   ],
   "source": [
    "# Calculate interquartile range (IQR) and determine outlier bounds\n",
    "for col in num_columns:\n",
    "    Q1 = df[col].quantile(0.25)\n",
    "    Q3 = df[col].quantile(0.75)\n",
    "    IQR = Q3 - Q1\n",
    "    lower_bound = Q1 - 1.5 * IQR\n",
    "    upper_bound = Q3 + 1.5 * IQR\n",
    "\n",
    "    outliers = [x for x in df[col] if (x < lower_bound) or (x > upper_bound)]\n",
    "    print(col)\n",
    "    print(\"No. of IQR-based outliers:\", len(outliers))\n",
    "    print(\"--------------------------------\")"
   ]
  },
  {
   "cell_type": "code",
   "execution_count": 20,
   "metadata": {},
   "outputs": [
    {
     "data": {
      "text/plain": [
       "array([4, 1, 3, 5, 2, 0], dtype=int64)"
      ]
     },
     "execution_count": 20,
     "metadata": {},
     "output_type": "execute_result"
    }
   ],
   "source": [
    "df['checkin_service'].unique()"
   ]
  },
  {
   "cell_type": "code",
   "execution_count": 21,
   "metadata": {},
   "outputs": [],
   "source": [
    "# Replace outlires values with mode in checkin_service column\n",
    "mode_value = df['checkin_service'].mode().iloc[0]  # Calculate mode for the column\n",
    "df.loc[df['checkin_service'].abs() > 5, 'checkin_service'] = mode_value"
   ]
  },
  {
   "cell_type": "raw",
   "metadata": {},
   "source": [
    "in other columns there's no need to drop this outlirs because they won't affect the rest of the data as they are small ratio from the total values"
   ]
  },
  {
   "cell_type": "code",
   "execution_count": 22,
   "metadata": {},
   "outputs": [],
   "source": [
    "df[\"satisfaction\"]=[1 if e==\"satisfied\" else 0 for e in df.satisfaction]"
   ]
  },
  {
   "cell_type": "markdown",
   "metadata": {},
   "source": [
    "# Modeling"
   ]
  },
  {
   "cell_type": "code",
   "execution_count": 23,
   "metadata": {},
   "outputs": [],
   "source": [
    "from sklearn.model_selection import train_test_split \n",
    "from sklearn.preprocessing import StandardScaler, OneHotEncoder, LabelEncoder\n",
    "from sklearn.model_selection import cross_val_score, KFold\n",
    "from sklearn.neighbors import KNeighborsClassifier\n",
    "from sklearn.tree import DecisionTreeClassifier\n",
    "from sklearn.svm import SVC\n",
    "from sklearn.naive_bayes import GaussianNB\n",
    "from sklearn.ensemble import RandomForestClassifier\n",
    "from sklearn.ensemble import AdaBoostClassifier as adab\n",
    "from sklearn.linear_model import LogisticRegression\n",
    "from sklearn.metrics import accuracy_score, classification_report, roc_auc_score"
   ]
  },
  {
   "cell_type": "code",
   "execution_count": 24,
   "metadata": {},
   "outputs": [],
   "source": [
    "#Preprocessing Categorical Columns\n",
    "encoder = LabelEncoder()\n",
    "\n",
    "for col in cat_columns:\n",
    "    df[col] = encoder.fit_transform(df[col])"
   ]
  },
  {
   "cell_type": "code",
   "execution_count": 25,
   "metadata": {},
   "outputs": [
    {
     "data": {
      "text/html": [
       "<div>\n",
       "<style scoped>\n",
       "    .dataframe tbody tr th:only-of-type {\n",
       "        vertical-align: middle;\n",
       "    }\n",
       "\n",
       "    .dataframe tbody tr th {\n",
       "        vertical-align: top;\n",
       "    }\n",
       "\n",
       "    .dataframe thead th {\n",
       "        text-align: right;\n",
       "    }\n",
       "</style>\n",
       "<table border=\"1\" class=\"dataframe\">\n",
       "  <thead>\n",
       "    <tr style=\"text-align: right;\">\n",
       "      <th></th>\n",
       "      <th>gender</th>\n",
       "      <th>customer_type</th>\n",
       "      <th>age</th>\n",
       "      <th>type_of_travel</th>\n",
       "      <th>class</th>\n",
       "      <th>flight_distance</th>\n",
       "      <th>inflight_wifi_service</th>\n",
       "      <th>arrival_time_convenient</th>\n",
       "      <th>ease_of_online_booking</th>\n",
       "      <th>gate_location</th>\n",
       "      <th>...</th>\n",
       "      <th>seat_comfort</th>\n",
       "      <th>inflight_entertainment</th>\n",
       "      <th>on_board_service</th>\n",
       "      <th>leg_room_service</th>\n",
       "      <th>baggage_handling</th>\n",
       "      <th>checkin_service</th>\n",
       "      <th>inflight_service</th>\n",
       "      <th>cleanliness</th>\n",
       "      <th>departure_delay_in_minutes</th>\n",
       "      <th>satisfaction</th>\n",
       "    </tr>\n",
       "  </thead>\n",
       "  <tbody>\n",
       "    <tr>\n",
       "      <th>0</th>\n",
       "      <td>1</td>\n",
       "      <td>0</td>\n",
       "      <td>13</td>\n",
       "      <td>1</td>\n",
       "      <td>2</td>\n",
       "      <td>460</td>\n",
       "      <td>3</td>\n",
       "      <td>4</td>\n",
       "      <td>3</td>\n",
       "      <td>1</td>\n",
       "      <td>...</td>\n",
       "      <td>5</td>\n",
       "      <td>5</td>\n",
       "      <td>4</td>\n",
       "      <td>3</td>\n",
       "      <td>4</td>\n",
       "      <td>4</td>\n",
       "      <td>5</td>\n",
       "      <td>5</td>\n",
       "      <td>25</td>\n",
       "      <td>0</td>\n",
       "    </tr>\n",
       "    <tr>\n",
       "      <th>1</th>\n",
       "      <td>1</td>\n",
       "      <td>1</td>\n",
       "      <td>25</td>\n",
       "      <td>0</td>\n",
       "      <td>0</td>\n",
       "      <td>235</td>\n",
       "      <td>3</td>\n",
       "      <td>2</td>\n",
       "      <td>3</td>\n",
       "      <td>3</td>\n",
       "      <td>...</td>\n",
       "      <td>1</td>\n",
       "      <td>1</td>\n",
       "      <td>1</td>\n",
       "      <td>5</td>\n",
       "      <td>3</td>\n",
       "      <td>1</td>\n",
       "      <td>4</td>\n",
       "      <td>1</td>\n",
       "      <td>1</td>\n",
       "      <td>0</td>\n",
       "    </tr>\n",
       "    <tr>\n",
       "      <th>2</th>\n",
       "      <td>0</td>\n",
       "      <td>0</td>\n",
       "      <td>26</td>\n",
       "      <td>0</td>\n",
       "      <td>0</td>\n",
       "      <td>1142</td>\n",
       "      <td>2</td>\n",
       "      <td>2</td>\n",
       "      <td>2</td>\n",
       "      <td>2</td>\n",
       "      <td>...</td>\n",
       "      <td>5</td>\n",
       "      <td>5</td>\n",
       "      <td>4</td>\n",
       "      <td>3</td>\n",
       "      <td>4</td>\n",
       "      <td>4</td>\n",
       "      <td>4</td>\n",
       "      <td>5</td>\n",
       "      <td>0</td>\n",
       "      <td>1</td>\n",
       "    </tr>\n",
       "    <tr>\n",
       "      <th>3</th>\n",
       "      <td>0</td>\n",
       "      <td>0</td>\n",
       "      <td>25</td>\n",
       "      <td>0</td>\n",
       "      <td>0</td>\n",
       "      <td>562</td>\n",
       "      <td>2</td>\n",
       "      <td>5</td>\n",
       "      <td>5</td>\n",
       "      <td>5</td>\n",
       "      <td>...</td>\n",
       "      <td>2</td>\n",
       "      <td>2</td>\n",
       "      <td>2</td>\n",
       "      <td>5</td>\n",
       "      <td>3</td>\n",
       "      <td>1</td>\n",
       "      <td>4</td>\n",
       "      <td>2</td>\n",
       "      <td>11</td>\n",
       "      <td>0</td>\n",
       "    </tr>\n",
       "    <tr>\n",
       "      <th>4</th>\n",
       "      <td>1</td>\n",
       "      <td>0</td>\n",
       "      <td>61</td>\n",
       "      <td>0</td>\n",
       "      <td>0</td>\n",
       "      <td>214</td>\n",
       "      <td>3</td>\n",
       "      <td>3</td>\n",
       "      <td>3</td>\n",
       "      <td>3</td>\n",
       "      <td>...</td>\n",
       "      <td>5</td>\n",
       "      <td>3</td>\n",
       "      <td>3</td>\n",
       "      <td>4</td>\n",
       "      <td>4</td>\n",
       "      <td>3</td>\n",
       "      <td>3</td>\n",
       "      <td>3</td>\n",
       "      <td>0</td>\n",
       "      <td>1</td>\n",
       "    </tr>\n",
       "  </tbody>\n",
       "</table>\n",
       "<p>5 rows × 22 columns</p>\n",
       "</div>"
      ],
      "text/plain": [
       "   gender  customer_type  age  type_of_travel  class  flight_distance  \\\n",
       "0       1              0   13               1      2              460   \n",
       "1       1              1   25               0      0              235   \n",
       "2       0              0   26               0      0             1142   \n",
       "3       0              0   25               0      0              562   \n",
       "4       1              0   61               0      0              214   \n",
       "\n",
       "   inflight_wifi_service  arrival_time_convenient  ease_of_online_booking  \\\n",
       "0                      3                        4                       3   \n",
       "1                      3                        2                       3   \n",
       "2                      2                        2                       2   \n",
       "3                      2                        5                       5   \n",
       "4                      3                        3                       3   \n",
       "\n",
       "   gate_location  ...  seat_comfort  inflight_entertainment  on_board_service  \\\n",
       "0              1  ...             5                       5                 4   \n",
       "1              3  ...             1                       1                 1   \n",
       "2              2  ...             5                       5                 4   \n",
       "3              5  ...             2                       2                 2   \n",
       "4              3  ...             5                       3                 3   \n",
       "\n",
       "   leg_room_service  baggage_handling  checkin_service  inflight_service  \\\n",
       "0                 3                 4                4                 5   \n",
       "1                 5                 3                1                 4   \n",
       "2                 3                 4                4                 4   \n",
       "3                 5                 3                1                 4   \n",
       "4                 4                 4                3                 3   \n",
       "\n",
       "   cleanliness  departure_delay_in_minutes  satisfaction  \n",
       "0            5                          25             0  \n",
       "1            1                           1             0  \n",
       "2            5                           0             1  \n",
       "3            2                          11             0  \n",
       "4            3                           0             1  \n",
       "\n",
       "[5 rows x 22 columns]"
      ]
     },
     "execution_count": 25,
     "metadata": {},
     "output_type": "execute_result"
    }
   ],
   "source": [
    "df.head()"
   ]
  },
  {
   "cell_type": "code",
   "execution_count": 26,
   "metadata": {},
   "outputs": [],
   "source": [
    "X = df.drop('satisfaction', axis = 1)\n",
    "y = df.satisfaction"
   ]
  },
  {
   "cell_type": "code",
   "execution_count": 27,
   "metadata": {},
   "outputs": [],
   "source": [
    "x_train,x_test,y_train,y_test=train_test_split(X,y,test_size=0.2)"
   ]
  },
  {
   "cell_type": "code",
   "execution_count": 28,
   "metadata": {},
   "outputs": [],
   "source": [
    "scaler=StandardScaler()\n",
    "x_train_scaled=scaler.fit_transform(x_train)\n",
    "x_test_scaled=scaler.transform(x_test)"
   ]
  },
  {
   "cell_type": "code",
   "execution_count": 29,
   "metadata": {},
   "outputs": [],
   "source": [
    "import time\n",
    "from sklearn.metrics import accuracy_score, roc_auc_score, classification_report, plot_confusion_matrix, plot_roc_curve\n",
    "from matplotlib import pyplot as plt \n",
    "def run_model(model, X_train, y_train, X_test, y_test, verbose=True):\n",
    "    t0=time.time()\n",
    "    if verbose == False:\n",
    "        model.fit(X_train,y_train.ravel(), verbose=0)\n",
    "    else:\n",
    "        model.fit(X_train,y_train.ravel())\n",
    "    y_pred = model.predict(X_test)\n",
    "    accuracy = accuracy_score(y_test, y_pred)\n",
    "    roc_auc = roc_auc_score(y_test, y_pred) \n",
    "    time_taken = time.time()-t0\n",
    "    print(\"Accuracy = {}\".format(accuracy))\n",
    "    print(\"ROC Area under Curve = {}\".format(roc_auc))\n",
    "    print(\"Time taken = {}\".format(time_taken))\n",
    "    print(classification_report(y_test,y_pred,digits=5))\n",
    "    plot_confusion_matrix(model, X_test, y_test,cmap=plt.cm.pink, normalize = 'all')\n",
    "    plot_roc_curve(model, X_test, y_test)                     \n",
    "    \n",
    "    return model, accuracy, roc_auc, time_taken"
   ]
  },
  {
   "cell_type": "markdown",
   "metadata": {},
   "source": [
    "# K Nearest Neigbors"
   ]
  },
  {
   "cell_type": "code",
   "execution_count": 30,
   "metadata": {},
   "outputs": [
    {
     "name": "stdout",
     "output_type": "stream",
     "text": [
      "Accuracy on the training set: 0.922\n"
     ]
    }
   ],
   "source": [
    "knn=KNeighborsClassifier(n_neighbors=4)\n",
    "knn.fit(x_train_scaled,y_train)\n",
    "k = KFold(n_splits = 5)\n",
    "score = cross_val_score(knn, x_train_scaled, y_train, scoring = 'accuracy', cv = k).mean()\n",
    "print(\"Accuracy on the training set:\", round(score, 3))"
   ]
  },
  {
   "cell_type": "code",
   "execution_count": 31,
   "metadata": {},
   "outputs": [
    {
     "name": "stdout",
     "output_type": "stream",
     "text": [
      "Accuracy on the test set: 0.923\n"
     ]
    }
   ],
   "source": [
    "y_pred = knn.predict(x_test_scaled)\n",
    "print(\"Accuracy on the test set:\", round(accuracy_score(y_test, y_pred), 3))"
   ]
  },
  {
   "cell_type": "code",
   "execution_count": 32,
   "metadata": {},
   "outputs": [
    {
     "name": "stdout",
     "output_type": "stream",
     "text": [
      "Accuracy = 0.922928857406837\n",
      "ROC Area under Curve = 0.9148585886375299\n",
      "Time taken = 210.11839938163757\n",
      "              precision    recall  f1-score   support\n",
      "\n",
      "           0    0.89564   0.97736   0.93472     14665\n",
      "           1    0.96671   0.85236   0.90594     11311\n",
      "\n",
      "    accuracy                        0.92293     25976\n",
      "   macro avg    0.93118   0.91486   0.92033     25976\n",
      "weighted avg    0.92659   0.92293   0.92219     25976\n",
      "\n"
     ]
    },
    {
     "data": {
      "image/png": "[encoded data removed]",
      "text/plain": [
       "<Figure size 432x288 with 2 Axes>"
      ]
     },
     "metadata": {
      "needs_background": "light"
     },
     "output_type": "display_data"
    },
    {
     "data": {
      "image/png": "[encoded data removed]",
      "text/plain": [
       "<Figure size 432x288 with 1 Axes>"
      ]
     },
     "metadata": {
      "needs_background": "light"
     },
     "output_type": "display_data"
    }
   ],
   "source": [
    "model_knn, accuracy_knn, roc_auc_knn, tt_knn = run_model(knn, x_train_scaled, y_train, x_test_scaled, y_test)"
   ]
  },
  {
   "cell_type": "raw",
   "metadata": {},
   "source": [
    "Choosing a K value"
   ]
  },
  {
   "cell_type": "code",
   "execution_count": 33,
   "metadata": {},
   "outputs": [
    {
     "ename": "KeyboardInterrupt",
     "evalue": "",
     "output_type": "error",
     "traceback": [
      "\u001b[1;31m---------------------------------------------------------------------------\u001b[0m",
      "\u001b[1;31mKeyboardInterrupt\u001b[0m                         Traceback (most recent call last)",
      "\u001b[1;32m<ipython-input-33-bc373e86c78a>\u001b[0m in \u001b[0;36m<module>\u001b[1;34m\u001b[0m\n\u001b[0;32m      4\u001b[0m     \u001b[0mknn\u001b[0m \u001b[1;33m=\u001b[0m \u001b[0mKNeighborsClassifier\u001b[0m\u001b[1;33m(\u001b[0m\u001b[0mn_neighbors\u001b[0m\u001b[1;33m=\u001b[0m\u001b[0mi\u001b[0m\u001b[1;33m)\u001b[0m\u001b[1;33m\u001b[0m\u001b[1;33m\u001b[0m\u001b[0m\n\u001b[0;32m      5\u001b[0m     \u001b[0mknn\u001b[0m\u001b[1;33m.\u001b[0m\u001b[0mfit\u001b[0m\u001b[1;33m(\u001b[0m\u001b[0mx_train_scaled\u001b[0m\u001b[1;33m,\u001b[0m\u001b[0my_train\u001b[0m\u001b[1;33m)\u001b[0m\u001b[1;33m\u001b[0m\u001b[1;33m\u001b[0m\u001b[0m\n\u001b[1;32m----> 6\u001b[1;33m     \u001b[0mpred_i\u001b[0m \u001b[1;33m=\u001b[0m \u001b[0mknn\u001b[0m\u001b[1;33m.\u001b[0m\u001b[0mpredict\u001b[0m\u001b[1;33m(\u001b[0m\u001b[0mx_test_scaled\u001b[0m\u001b[1;33m)\u001b[0m\u001b[1;33m\u001b[0m\u001b[1;33m\u001b[0m\u001b[0m\n\u001b[0m\u001b[0;32m      7\u001b[0m     \u001b[0maccuracy_i\u001b[0m \u001b[1;33m=\u001b[0m \u001b[0maccuracy_score\u001b[0m\u001b[1;33m(\u001b[0m\u001b[0my_test\u001b[0m\u001b[1;33m,\u001b[0m \u001b[0mpred_i\u001b[0m\u001b[1;33m)\u001b[0m\u001b[1;33m\u001b[0m\u001b[1;33m\u001b[0m\u001b[0m\n\u001b[0;32m      8\u001b[0m     \u001b[0maccuracy\u001b[0m\u001b[1;33m.\u001b[0m\u001b[0mappend\u001b[0m\u001b[1;33m(\u001b[0m\u001b[0maccuracy_i\u001b[0m\u001b[1;33m)\u001b[0m\u001b[1;33m\u001b[0m\u001b[1;33m\u001b[0m\u001b[0m\n",
      "\u001b[1;32mC:\\anaconda\\lib\\site-packages\\sklearn\\neighbors\\_classification.py\u001b[0m in \u001b[0;36mpredict\u001b[1;34m(self, X)\u001b[0m\n\u001b[0;32m    171\u001b[0m         \u001b[0mX\u001b[0m \u001b[1;33m=\u001b[0m \u001b[0mcheck_array\u001b[0m\u001b[1;33m(\u001b[0m\u001b[0mX\u001b[0m\u001b[1;33m,\u001b[0m \u001b[0maccept_sparse\u001b[0m\u001b[1;33m=\u001b[0m\u001b[1;34m'csr'\u001b[0m\u001b[1;33m)\u001b[0m\u001b[1;33m\u001b[0m\u001b[1;33m\u001b[0m\u001b[0m\n\u001b[0;32m    172\u001b[0m \u001b[1;33m\u001b[0m\u001b[0m\n\u001b[1;32m--> 173\u001b[1;33m         \u001b[0mneigh_dist\u001b[0m\u001b[1;33m,\u001b[0m \u001b[0mneigh_ind\u001b[0m \u001b[1;33m=\u001b[0m \u001b[0mself\u001b[0m\u001b[1;33m.\u001b[0m\u001b[0mkneighbors\u001b[0m\u001b[1;33m(\u001b[0m\u001b[0mX\u001b[0m\u001b[1;33m)\u001b[0m\u001b[1;33m\u001b[0m\u001b[1;33m\u001b[0m\u001b[0m\n\u001b[0m\u001b[0;32m    174\u001b[0m         \u001b[0mclasses_\u001b[0m \u001b[1;33m=\u001b[0m \u001b[0mself\u001b[0m\u001b[1;33m.\u001b[0m\u001b[0mclasses_\u001b[0m\u001b[1;33m\u001b[0m\u001b[1;33m\u001b[0m\u001b[0m\n\u001b[0;32m    175\u001b[0m         \u001b[0m_y\u001b[0m \u001b[1;33m=\u001b[0m \u001b[0mself\u001b[0m\u001b[1;33m.\u001b[0m\u001b[0m_y\u001b[0m\u001b[1;33m\u001b[0m\u001b[1;33m\u001b[0m\u001b[0m\n",
      "\u001b[1;32mC:\\anaconda\\lib\\site-packages\\sklearn\\neighbors\\_base.py\u001b[0m in \u001b[0;36mkneighbors\u001b[1;34m(self, X, n_neighbors, return_distance)\u001b[0m\n\u001b[0;32m    661\u001b[0m                 delayed_query(\n\u001b[0;32m    662\u001b[0m                     self._tree, X[s], n_neighbors, return_distance)\n\u001b[1;32m--> 663\u001b[1;33m                 \u001b[1;32mfor\u001b[0m \u001b[0ms\u001b[0m \u001b[1;32min\u001b[0m \u001b[0mgen_even_slices\u001b[0m\u001b[1;33m(\u001b[0m\u001b[0mX\u001b[0m\u001b[1;33m.\u001b[0m\u001b[0mshape\u001b[0m\u001b[1;33m[\u001b[0m\u001b[1;36m0\u001b[0m\u001b[1;33m]\u001b[0m\u001b[1;33m,\u001b[0m \u001b[0mn_jobs\u001b[0m\u001b[1;33m)\u001b[0m\u001b[1;33m\u001b[0m\u001b[1;33m\u001b[0m\u001b[0m\n\u001b[0m\u001b[0;32m    664\u001b[0m             )\n\u001b[0;32m    665\u001b[0m         \u001b[1;32melse\u001b[0m\u001b[1;33m:\u001b[0m\u001b[1;33m\u001b[0m\u001b[1;33m\u001b[0m\u001b[0m\n",
      "\u001b[1;32mC:\\anaconda\\lib\\site-packages\\joblib\\parallel.py\u001b[0m in \u001b[0;36m__call__\u001b[1;34m(self, iterable)\u001b[0m\n\u001b[0;32m   1002\u001b[0m             \u001b[1;31m# remaining jobs.\u001b[0m\u001b[1;33m\u001b[0m\u001b[1;33m\u001b[0m\u001b[1;33m\u001b[0m\u001b[0m\n\u001b[0;32m   1003\u001b[0m             \u001b[0mself\u001b[0m\u001b[1;33m.\u001b[0m\u001b[0m_iterating\u001b[0m \u001b[1;33m=\u001b[0m \u001b[1;32mFalse\u001b[0m\u001b[1;33m\u001b[0m\u001b[1;33m\u001b[0m\u001b[0m\n\u001b[1;32m-> 1004\u001b[1;33m             \u001b[1;32mif\u001b[0m \u001b[0mself\u001b[0m\u001b[1;33m.\u001b[0m\u001b[0mdispatch_one_batch\u001b[0m\u001b[1;33m(\u001b[0m\u001b[0miterator\u001b[0m\u001b[1;33m)\u001b[0m\u001b[1;33m:\u001b[0m\u001b[1;33m\u001b[0m\u001b[1;33m\u001b[0m\u001b[0m\n\u001b[0m\u001b[0;32m   1005\u001b[0m                 \u001b[0mself\u001b[0m\u001b[1;33m.\u001b[0m\u001b[0m_iterating\u001b[0m \u001b[1;33m=\u001b[0m \u001b[0mself\u001b[0m\u001b[1;33m.\u001b[0m\u001b[0m_original_iterator\u001b[0m \u001b[1;32mis\u001b[0m \u001b[1;32mnot\u001b[0m \u001b[1;32mNone\u001b[0m\u001b[1;33m\u001b[0m\u001b[1;33m\u001b[0m\u001b[0m\n\u001b[0;32m   1006\u001b[0m \u001b[1;33m\u001b[0m\u001b[0m\n",
      "\u001b[1;32mC:\\anaconda\\lib\\site-packages\\joblib\\parallel.py\u001b[0m in \u001b[0;36mdispatch_one_batch\u001b[1;34m(self, iterator)\u001b[0m\n\u001b[0;32m    833\u001b[0m                 \u001b[1;32mreturn\u001b[0m \u001b[1;32mFalse\u001b[0m\u001b[1;33m\u001b[0m\u001b[1;33m\u001b[0m\u001b[0m\n\u001b[0;32m    834\u001b[0m             \u001b[1;32melse\u001b[0m\u001b[1;33m:\u001b[0m\u001b[1;33m\u001b[0m\u001b[1;33m\u001b[0m\u001b[0m\n\u001b[1;32m--> 835\u001b[1;33m                 \u001b[0mself\u001b[0m\u001b[1;33m.\u001b[0m\u001b[0m_dispatch\u001b[0m\u001b[1;33m(\u001b[0m\u001b[0mtasks\u001b[0m\u001b[1;33m)\u001b[0m\u001b[1;33m\u001b[0m\u001b[1;33m\u001b[0m\u001b[0m\n\u001b[0m\u001b[0;32m    836\u001b[0m                 \u001b[1;32mreturn\u001b[0m \u001b[1;32mTrue\u001b[0m\u001b[1;33m\u001b[0m\u001b[1;33m\u001b[0m\u001b[0m\n\u001b[0;32m    837\u001b[0m \u001b[1;33m\u001b[0m\u001b[0m\n",
      "\u001b[1;32mC:\\anaconda\\lib\\site-packages\\joblib\\parallel.py\u001b[0m in \u001b[0;36m_dispatch\u001b[1;34m(self, batch)\u001b[0m\n\u001b[0;32m    752\u001b[0m         \u001b[1;32mwith\u001b[0m \u001b[0mself\u001b[0m\u001b[1;33m.\u001b[0m\u001b[0m_lock\u001b[0m\u001b[1;33m:\u001b[0m\u001b[1;33m\u001b[0m\u001b[1;33m\u001b[0m\u001b[0m\n\u001b[0;32m    753\u001b[0m             \u001b[0mjob_idx\u001b[0m \u001b[1;33m=\u001b[0m \u001b[0mlen\u001b[0m\u001b[1;33m(\u001b[0m\u001b[0mself\u001b[0m\u001b[1;33m.\u001b[0m\u001b[0m_jobs\u001b[0m\u001b[1;33m)\u001b[0m\u001b[1;33m\u001b[0m\u001b[1;33m\u001b[0m\u001b[0m\n\u001b[1;32m--> 754\u001b[1;33m             \u001b[0mjob\u001b[0m \u001b[1;33m=\u001b[0m \u001b[0mself\u001b[0m\u001b[1;33m.\u001b[0m\u001b[0m_backend\u001b[0m\u001b[1;33m.\u001b[0m\u001b[0mapply_async\u001b[0m\u001b[1;33m(\u001b[0m\u001b[0mbatch\u001b[0m\u001b[1;33m,\u001b[0m \u001b[0mcallback\u001b[0m\u001b[1;33m=\u001b[0m\u001b[0mcb\u001b[0m\u001b[1;33m)\u001b[0m\u001b[1;33m\u001b[0m\u001b[1;33m\u001b[0m\u001b[0m\n\u001b[0m\u001b[0;32m    755\u001b[0m             \u001b[1;31m# A job can complete so quickly than its callback is\u001b[0m\u001b[1;33m\u001b[0m\u001b[1;33m\u001b[0m\u001b[1;33m\u001b[0m\u001b[0m\n\u001b[0;32m    756\u001b[0m             \u001b[1;31m# called before we get here, causing self._jobs to\u001b[0m\u001b[1;33m\u001b[0m\u001b[1;33m\u001b[0m\u001b[1;33m\u001b[0m\u001b[0m\n",
      "\u001b[1;32mC:\\anaconda\\lib\\site-packages\\joblib\\_parallel_backends.py\u001b[0m in \u001b[0;36mapply_async\u001b[1;34m(self, func, callback)\u001b[0m\n\u001b[0;32m    207\u001b[0m     \u001b[1;32mdef\u001b[0m \u001b[0mapply_async\u001b[0m\u001b[1;33m(\u001b[0m\u001b[0mself\u001b[0m\u001b[1;33m,\u001b[0m \u001b[0mfunc\u001b[0m\u001b[1;33m,\u001b[0m \u001b[0mcallback\u001b[0m\u001b[1;33m=\u001b[0m\u001b[1;32mNone\u001b[0m\u001b[1;33m)\u001b[0m\u001b[1;33m:\u001b[0m\u001b[1;33m\u001b[0m\u001b[1;33m\u001b[0m\u001b[0m\n\u001b[0;32m    208\u001b[0m         \u001b[1;34m\"\"\"Schedule a func to be run\"\"\"\u001b[0m\u001b[1;33m\u001b[0m\u001b[1;33m\u001b[0m\u001b[0m\n\u001b[1;32m--> 209\u001b[1;33m         \u001b[0mresult\u001b[0m \u001b[1;33m=\u001b[0m \u001b[0mImmediateResult\u001b[0m\u001b[1;33m(\u001b[0m\u001b[0mfunc\u001b[0m\u001b[1;33m)\u001b[0m\u001b[1;33m\u001b[0m\u001b[1;33m\u001b[0m\u001b[0m\n\u001b[0m\u001b[0;32m    210\u001b[0m         \u001b[1;32mif\u001b[0m \u001b[0mcallback\u001b[0m\u001b[1;33m:\u001b[0m\u001b[1;33m\u001b[0m\u001b[1;33m\u001b[0m\u001b[0m\n\u001b[0;32m    211\u001b[0m             \u001b[0mcallback\u001b[0m\u001b[1;33m(\u001b[0m\u001b[0mresult\u001b[0m\u001b[1;33m)\u001b[0m\u001b[1;33m\u001b[0m\u001b[1;33m\u001b[0m\u001b[0m\n",
      "\u001b[1;32mC:\\anaconda\\lib\\site-packages\\joblib\\_parallel_backends.py\u001b[0m in \u001b[0;36m__init__\u001b[1;34m(self, batch)\u001b[0m\n\u001b[0;32m    588\u001b[0m         \u001b[1;31m# Don't delay the application, to avoid keeping the input\u001b[0m\u001b[1;33m\u001b[0m\u001b[1;33m\u001b[0m\u001b[1;33m\u001b[0m\u001b[0m\n\u001b[0;32m    589\u001b[0m         \u001b[1;31m# arguments in memory\u001b[0m\u001b[1;33m\u001b[0m\u001b[1;33m\u001b[0m\u001b[1;33m\u001b[0m\u001b[0m\n\u001b[1;32m--> 590\u001b[1;33m         \u001b[0mself\u001b[0m\u001b[1;33m.\u001b[0m\u001b[0mresults\u001b[0m \u001b[1;33m=\u001b[0m \u001b[0mbatch\u001b[0m\u001b[1;33m(\u001b[0m\u001b[1;33m)\u001b[0m\u001b[1;33m\u001b[0m\u001b[1;33m\u001b[0m\u001b[0m\n\u001b[0m\u001b[0;32m    591\u001b[0m \u001b[1;33m\u001b[0m\u001b[0m\n\u001b[0;32m    592\u001b[0m     \u001b[1;32mdef\u001b[0m \u001b[0mget\u001b[0m\u001b[1;33m(\u001b[0m\u001b[0mself\u001b[0m\u001b[1;33m)\u001b[0m\u001b[1;33m:\u001b[0m\u001b[1;33m\u001b[0m\u001b[1;33m\u001b[0m\u001b[0m\n",
      "\u001b[1;32mC:\\anaconda\\lib\\site-packages\\joblib\\parallel.py\u001b[0m in \u001b[0;36m__call__\u001b[1;34m(self)\u001b[0m\n\u001b[0;32m    254\u001b[0m         \u001b[1;32mwith\u001b[0m \u001b[0mparallel_backend\u001b[0m\u001b[1;33m(\u001b[0m\u001b[0mself\u001b[0m\u001b[1;33m.\u001b[0m\u001b[0m_backend\u001b[0m\u001b[1;33m,\u001b[0m \u001b[0mn_jobs\u001b[0m\u001b[1;33m=\u001b[0m\u001b[0mself\u001b[0m\u001b[1;33m.\u001b[0m\u001b[0m_n_jobs\u001b[0m\u001b[1;33m)\u001b[0m\u001b[1;33m:\u001b[0m\u001b[1;33m\u001b[0m\u001b[1;33m\u001b[0m\u001b[0m\n\u001b[0;32m    255\u001b[0m             return [func(*args, **kwargs)\n\u001b[1;32m--> 256\u001b[1;33m                     for func, args, kwargs in self.items]\n\u001b[0m\u001b[0;32m    257\u001b[0m \u001b[1;33m\u001b[0m\u001b[0m\n\u001b[0;32m    258\u001b[0m     \u001b[1;32mdef\u001b[0m \u001b[0m__len__\u001b[0m\u001b[1;33m(\u001b[0m\u001b[0mself\u001b[0m\u001b[1;33m)\u001b[0m\u001b[1;33m:\u001b[0m\u001b[1;33m\u001b[0m\u001b[1;33m\u001b[0m\u001b[0m\n",
      "\u001b[1;32mC:\\anaconda\\lib\\site-packages\\joblib\\parallel.py\u001b[0m in \u001b[0;36m<listcomp>\u001b[1;34m(.0)\u001b[0m\n\u001b[0;32m    254\u001b[0m         \u001b[1;32mwith\u001b[0m \u001b[0mparallel_backend\u001b[0m\u001b[1;33m(\u001b[0m\u001b[0mself\u001b[0m\u001b[1;33m.\u001b[0m\u001b[0m_backend\u001b[0m\u001b[1;33m,\u001b[0m \u001b[0mn_jobs\u001b[0m\u001b[1;33m=\u001b[0m\u001b[0mself\u001b[0m\u001b[1;33m.\u001b[0m\u001b[0m_n_jobs\u001b[0m\u001b[1;33m)\u001b[0m\u001b[1;33m:\u001b[0m\u001b[1;33m\u001b[0m\u001b[1;33m\u001b[0m\u001b[0m\n\u001b[0;32m    255\u001b[0m             return [func(*args, **kwargs)\n\u001b[1;32m--> 256\u001b[1;33m                     for func, args, kwargs in self.items]\n\u001b[0m\u001b[0;32m    257\u001b[0m \u001b[1;33m\u001b[0m\u001b[0m\n\u001b[0;32m    258\u001b[0m     \u001b[1;32mdef\u001b[0m \u001b[0m__len__\u001b[0m\u001b[1;33m(\u001b[0m\u001b[0mself\u001b[0m\u001b[1;33m)\u001b[0m\u001b[1;33m:\u001b[0m\u001b[1;33m\u001b[0m\u001b[1;33m\u001b[0m\u001b[0m\n",
      "\u001b[1;32mC:\\anaconda\\lib\\site-packages\\sklearn\\neighbors\\_base.py\u001b[0m in \u001b[0;36m_tree_query_parallel_helper\u001b[1;34m(tree, *args, **kwargs)\u001b[0m\n\u001b[0;32m    488\u001b[0m     \u001b[0munder\u001b[0m \u001b[0mPyPy\u001b[0m\u001b[1;33m.\u001b[0m\u001b[1;33m\u001b[0m\u001b[1;33m\u001b[0m\u001b[0m\n\u001b[0;32m    489\u001b[0m     \"\"\"\n\u001b[1;32m--> 490\u001b[1;33m     \u001b[1;32mreturn\u001b[0m \u001b[0mtree\u001b[0m\u001b[1;33m.\u001b[0m\u001b[0mquery\u001b[0m\u001b[1;33m(\u001b[0m\u001b[1;33m*\u001b[0m\u001b[0margs\u001b[0m\u001b[1;33m,\u001b[0m \u001b[1;33m**\u001b[0m\u001b[0mkwargs\u001b[0m\u001b[1;33m)\u001b[0m\u001b[1;33m\u001b[0m\u001b[1;33m\u001b[0m\u001b[0m\n\u001b[0m\u001b[0;32m    491\u001b[0m \u001b[1;33m\u001b[0m\u001b[0m\n\u001b[0;32m    492\u001b[0m \u001b[1;33m\u001b[0m\u001b[0m\n",
      "\u001b[1;31mKeyboardInterrupt\u001b[0m: "
     ]
    }
   ],
   "source": [
    "accuracy = []\n",
    "for i in range(1,15):\n",
    "    \n",
    "    knn = KNeighborsClassifier(n_neighbors=i)\n",
    "    knn.fit(x_train_scaled,y_train)\n",
    "    pred_i = knn.predict(x_test_scaled)\n",
    "    accuracy_i = accuracy_score(y_test, pred_i)\n",
    "    accuracy.append(accuracy_i)"
   ]
  },
  {
   "cell_type": "code",
   "execution_count": null,
   "metadata": {},
   "outputs": [],
   "source": [
    "plt.figure(figsize=(15,6))\n",
    "plt.plot(range(1,15, 1), accuracy, color='blue', linestyle='dashed', marker='o',\n",
    "         markerfacecolor='red', markersize=10)\n",
    "plt.title('Accuracy vs. K Value')\n",
    "plt.xlabel('K')\n",
    "plt.ylabel('Accuracy')\n",
    "plt.show()"
   ]
  },
  {
   "cell_type": "raw",
   "metadata": {},
   "source": [
    " Maximum accuracy occurs when k = 5, lets re train our model for k = 5"
   ]
  },
  {
   "cell_type": "code",
   "execution_count": null,
   "metadata": {},
   "outputs": [],
   "source": [
    "knn = KNeighborsClassifier(n_neighbors = 5)\n",
    "knn.fit(x_train_scaled, y_train)\n",
    "y_pred = knn.predict(x_test_scaled)"
   ]
  },
  {
   "cell_type": "code",
   "execution_count": null,
   "metadata": {},
   "outputs": [],
   "source": [
    "accuracy = accuracy_score(y_test, y_pred)\n",
    "print(f\"Accuracy: {round(accuracy * 100, 2)}%\")"
   ]
  },
  {
   "cell_type": "markdown",
   "metadata": {},
   "source": [
    "# Naive Bayes Classifier"
   ]
  },
  {
   "cell_type": "code",
   "execution_count": 34,
   "metadata": {},
   "outputs": [
    {
     "name": "stdout",
     "output_type": "stream",
     "text": [
      "Accuracy on the training set: 0.865\n"
     ]
    }
   ],
   "source": [
    "nb = GaussianNB()\n",
    "nb.fit(x_train_scaled,y_train)\n",
    "k = KFold(n_splits = 5)\n",
    "score = cross_val_score(nb, x_train_scaled, y_train, scoring = 'accuracy', cv = k).mean()\n",
    "print(\"Accuracy on the training set:\", round(score, 3))"
   ]
  },
  {
   "cell_type": "code",
   "execution_count": 35,
   "metadata": {},
   "outputs": [
    {
     "name": "stdout",
     "output_type": "stream",
     "text": [
      "Accuracy on the test set: 0.927\n"
     ]
    }
   ],
   "source": [
    "y_pred = knn.predict(x_test_scaled)\n",
    "print(\"Accuracy on the test set:\", round(accuracy_score(y_test, y_pred), 3))"
   ]
  },
  {
   "cell_type": "code",
   "execution_count": 36,
   "metadata": {},
   "outputs": [
    {
     "name": "stdout",
     "output_type": "stream",
     "text": [
      "Accuracy = 0.8644518016630736\n",
      "ROC Area under Curve = 0.8589639634928093\n",
      "Time taken = 0.15653276443481445\n",
      "              precision    recall  f1-score   support\n",
      "\n",
      "           0    0.86428   0.90147   0.88248     14665\n",
      "           1    0.86470   0.81646   0.83989     11311\n",
      "\n",
      "    accuracy                        0.86445     25976\n",
      "   macro avg    0.86449   0.85896   0.86118     25976\n",
      "weighted avg    0.86446   0.86445   0.86393     25976\n",
      "\n"
     ]
    },
    {
     "data": {
      "image/png": "[encoded data removed]",
      "text/plain": [
       "<Figure size 432x288 with 2 Axes>"
      ]
     },
     "metadata": {
      "needs_background": "light"
     },
     "output_type": "display_data"
    },
    {
     "data": {
      "image/png": "[encoded data removed]",
      "text/plain": [
       "<Figure size 432x288 with 1 Axes>"
      ]
     },
     "metadata": {
      "needs_background": "light"
     },
     "output_type": "display_data"
    }
   ],
   "source": [
    "model_nb, accuracy_nb, roc_auc_nb, tt_nb = run_model(nb, x_train_scaled, y_train, x_test_scaled, y_test)"
   ]
  },
  {
   "cell_type": "markdown",
   "metadata": {},
   "source": [
    "# Decision Tree Classifier"
   ]
  },
  {
   "cell_type": "code",
   "execution_count": null,
   "metadata": {},
   "outputs": [],
   "source": [
    "#gini"
   ]
  },
  {
   "cell_type": "code",
   "execution_count": 37,
   "metadata": {},
   "outputs": [
    {
     "name": "stdout",
     "output_type": "stream",
     "text": [
      "Accuracy on the training set: 0.946\n"
     ]
    }
   ],
   "source": [
    "dt = DecisionTreeClassifier(criterion='gini',max_depth=10)\n",
    "dt.fit(x_train_scaled,y_train)\n",
    "k = KFold(n_splits = 7)\n",
    "score = cross_val_score(dt, x_train_scaled, y_train, scoring = 'accuracy', cv = k).mean()\n",
    "print(\"Accuracy on the training set:\", round(score, 3))"
   ]
  },
  {
   "cell_type": "code",
   "execution_count": 38,
   "metadata": {},
   "outputs": [
    {
     "name": "stdout",
     "output_type": "stream",
     "text": [
      "Accuracy on the test set: 0.946\n"
     ]
    }
   ],
   "source": [
    "y_pred = dt.predict(x_test_scaled)\n",
    "print(\"Accuracy on the test set:\", round(accuracy_score(y_test, y_pred), 3))"
   ]
  },
  {
   "cell_type": "code",
   "execution_count": 39,
   "metadata": {},
   "outputs": [
    {
     "name": "stdout",
     "output_type": "stream",
     "text": [
      "Accuracy = 0.9458731136433631\n",
      "ROC Area under Curve = 0.9428121091673309\n",
      "Time taken = 1.0547118186950684\n",
      "              precision    recall  f1-score   support\n",
      "\n",
      "           0    0.93936   0.96652   0.95275     14665\n",
      "           1    0.95490   0.91911   0.93666     11311\n",
      "\n",
      "    accuracy                        0.94587     25976\n",
      "   macro avg    0.94713   0.94281   0.94470     25976\n",
      "weighted avg    0.94613   0.94587   0.94574     25976\n",
      "\n"
     ]
    },
    {
     "data": {
      "image/png": "[encoded data removed]",
      "text/plain": [
       "<Figure size 432x288 with 2 Axes>"
      ]
     },
     "metadata": {
      "needs_background": "light"
     },
     "output_type": "display_data"
    },
    {
     "data": {
      "image/png": "[encoded data removed]",
      "text/plain": [
       "<Figure size 432x288 with 1 Axes>"
      ]
     },
     "metadata": {
      "needs_background": "light"
     },
     "output_type": "display_data"
    }
   ],
   "source": [
    "model_dt, accuracy_dt, roc_auc_dt, tt_dt = run_model(dt, x_train_scaled, y_train, x_test_scaled, y_test)"
   ]
  },
  {
   "cell_type": "code",
   "execution_count": null,
   "metadata": {},
   "outputs": [],
   "source": [
    "#entropy"
   ]
  },
  {
   "cell_type": "code",
   "execution_count": 41,
   "metadata": {},
   "outputs": [
    {
     "name": "stdout",
     "output_type": "stream",
     "text": [
      "Accuracy on the training set: 0.947\n"
     ]
    }
   ],
   "source": [
    "dt = DecisionTreeClassifier(criterion='entropy',max_depth=10)\n",
    "dt.fit(x_train_scaled,y_train)\n",
    "k = KFold(n_splits = 7)\n",
    "score = cross_val_score(dt, x_train_scaled, y_train, scoring = 'accuracy', cv = k).mean()\n",
    "print(\"Accuracy on the training set:\", round(score, 3))"
   ]
  },
  {
   "cell_type": "code",
   "execution_count": 42,
   "metadata": {
    "scrolled": true
   },
   "outputs": [
    {
     "name": "stdout",
     "output_type": "stream",
     "text": [
      "Accuracy on the test set: 0.948\n"
     ]
    }
   ],
   "source": [
    "y_pred = dt.predict(x_test_scaled)\n",
    "print(\"Accuracy on the test set:\", round(accuracy_score(y_test, y_pred), 3))"
   ]
  },
  {
   "cell_type": "markdown",
   "metadata": {},
   "source": [
    "# Support vector machine model(SVC)"
   ]
  },
  {
   "cell_type": "code",
   "execution_count": 43,
   "metadata": {},
   "outputs": [
    {
     "name": "stdout",
     "output_type": "stream",
     "text": [
      "Accuracy on the training set: 0.865\n"
     ]
    }
   ],
   "source": [
    "svc = SVC()\n",
    "svc.fit(x_train_scaled,y_train)\n",
    "k = KFold(n_splits = 5)\n",
    "score = cross_val_score(nb, x_train_scaled, y_train, scoring = 'accuracy', cv = k).mean()\n",
    "print(\"Accuracy on the training set:\", round(score, 3))"
   ]
  },
  {
   "cell_type": "code",
   "execution_count": 44,
   "metadata": {},
   "outputs": [
    {
     "name": "stdout",
     "output_type": "stream",
     "text": [
      "Accuracy on the test set: 0.956\n"
     ]
    }
   ],
   "source": [
    "y_pred = svc.predict(x_test_scaled)\n",
    "print(\"Accuracy on the test set:\", round(accuracy_score(y_test, y_pred), 3))"
   ]
  },
  {
   "cell_type": "code",
   "execution_count": 45,
   "metadata": {},
   "outputs": [
    {
     "name": "stdout",
     "output_type": "stream",
     "text": [
      "Accuracy = 0.9556898675700647\n",
      "ROC Area under Curve = 0.9534878336543516\n",
      "Time taken = 392.7071843147278\n",
      "              precision    recall  f1-score   support\n",
      "\n",
      "           0    0.95191   0.97054   0.96114     14665\n",
      "           1    0.96081   0.93643   0.94847     11311\n",
      "\n",
      "    accuracy                        0.95569     25976\n",
      "   macro avg    0.95636   0.95349   0.95480     25976\n",
      "weighted avg    0.95579   0.95569   0.95562     25976\n",
      "\n"
     ]
    },
    {
     "data": {
      "image/png": "[encoded data removed]",
      "text/plain": [
       "<Figure size 432x288 with 2 Axes>"
      ]
     },
     "metadata": {
      "needs_background": "light"
     },
     "output_type": "display_data"
    },
    {
     "data": {
      "image/png": "[encoded data removed]",
      "text/plain": [
       "<Figure size 432x288 with 1 Axes>"
      ]
     },
     "metadata": {
      "needs_background": "light"
     },
     "output_type": "display_data"
    }
   ],
   "source": [
    "model_svc, accuracy_svc, roc_auc_svc, tt_svc = run_model(svc, x_train_scaled, y_train, x_test_scaled, y_test)"
   ]
  },
  {
   "cell_type": "markdown",
   "metadata": {},
   "source": [
    "# Random Forest"
   ]
  },
  {
   "cell_type": "code",
   "execution_count": 46,
   "metadata": {},
   "outputs": [
    {
     "name": "stdout",
     "output_type": "stream",
     "text": [
      "Accuracy on the training set: 0.963\n"
     ]
    }
   ],
   "source": [
    "from sklearn import ensemble\n",
    "rf = ensemble.RandomForestClassifier(n_estimators=100)\n",
    "rf.fit(x_train_scaled, y_train)\n",
    "\n",
    "k = KFold(n_splits=5)\n",
    "score = cross_val_score(rf, x_train_scaled, y_train, scoring='accuracy', cv=k).mean()\n",
    "print(\"Accuracy on the training set:\", round(score, 3))"
   ]
  },
  {
   "cell_type": "code",
   "execution_count": 47,
   "metadata": {},
   "outputs": [
    {
     "name": "stdout",
     "output_type": "stream",
     "text": [
      "Accuracy on the test set: 0.962\n"
     ]
    }
   ],
   "source": [
    "y_pred = rf.predict(x_test_scaled)\n",
    "print(\"Accuracy on the test set:\", round(accuracy_score(y_test, y_pred), 3))"
   ]
  },
  {
   "cell_type": "code",
   "execution_count": 48,
   "metadata": {},
   "outputs": [
    {
     "name": "stdout",
     "output_type": "stream",
     "text": [
      "Accuracy = 0.9620033877425316\n",
      "ROC Area under Curve = 0.9593523474172532\n",
      "Time taken = 28.3767831325531\n",
      "              precision    recall  f1-score   support\n",
      "\n",
      "           0    0.95406   0.97988   0.96680     14665\n",
      "           1    0.97297   0.93882   0.95559     11311\n",
      "\n",
      "    accuracy                        0.96200     25976\n",
      "   macro avg    0.96351   0.95935   0.96119     25976\n",
      "weighted avg    0.96229   0.96200   0.96192     25976\n",
      "\n"
     ]
    },
    {
     "data": {
      "image/png": "[encoded data removed]",
      "text/plain": [
       "<Figure size 432x288 with 2 Axes>"
      ]
     },
     "metadata": {
      "needs_background": "light"
     },
     "output_type": "display_data"
    },
    {
     "data": {
      "image/png": "[encoded data removed]",
      "text/plain": [
       "<Figure size 432x288 with 1 Axes>"
      ]
     },
     "metadata": {
      "needs_background": "light"
     },
     "output_type": "display_data"
    }
   ],
   "source": [
    "model_rf, accuracy_rf, roc_auc_rf, tt_rf = run_model(rf, x_train_scaled, y_train, x_test_scaled, y_test)"
   ]
  },
  {
   "cell_type": "markdown",
   "metadata": {},
   "source": [
    "# AdaBoost"
   ]
  },
  {
   "cell_type": "code",
   "execution_count": 49,
   "metadata": {},
   "outputs": [
    {
     "name": "stdout",
     "output_type": "stream",
     "text": [
      "Accuracy on the training set: 0.929\n"
     ]
    }
   ],
   "source": [
    "ada = ensemble.AdaBoostClassifier(n_estimators = 100)\n",
    "ada.fit(x_train_scaled, y_train)\n",
    "k = KFold(n_splits=10)\n",
    "score = cross_val_score(ada, x_train_scaled, y_train, scoring='accuracy', cv=k).mean()\n",
    "print(\"Accuracy on the training set:\", round(score, 3))\n"
   ]
  },
  {
   "cell_type": "code",
   "execution_count": 50,
   "metadata": {},
   "outputs": [
    {
     "name": "stdout",
     "output_type": "stream",
     "text": [
      "Accuracy = 0.9283954419464121\n",
      "ROC Area under Curve = 0.926372630030484\n",
      "Time taken = 20.401531457901\n",
      "              precision    recall  f1-score   support\n",
      "\n",
      "           0    0.93187   0.94204   0.93693     14665\n",
      "           1    0.92377   0.91071   0.91719     11311\n",
      "\n",
      "    accuracy                        0.92840     25976\n",
      "   macro avg    0.92782   0.92637   0.92706     25976\n",
      "weighted avg    0.92835   0.92840   0.92833     25976\n",
      "\n"
     ]
    },
    {
     "data": {
      "image/png": "[encoded data removed]",
      "text/plain": [
       "<Figure size 432x288 with 2 Axes>"
      ]
     },
     "metadata": {
      "needs_background": "light"
     },
     "output_type": "display_data"
    },
    {
     "data": {
      "image/png": "[encoded data removed]",
      "text/plain": [
       "<Figure size 432x288 with 1 Axes>"
      ]
     },
     "metadata": {
      "needs_background": "light"
     },
     "output_type": "display_data"
    }
   ],
   "source": [
    "import time\n",
    "model_adab, accuracy_adab, roc_auc_adab, tt_adab = run_model(ada, x_train_scaled, y_train, x_test_scaled, y_test)"
   ]
  },
  {
   "cell_type": "code",
   "execution_count": 51,
   "metadata": {},
   "outputs": [
    {
     "name": "stdout",
     "output_type": "stream",
     "text": [
      "Accuracy on the test set: 0.928\n"
     ]
    }
   ],
   "source": [
    "y_pred = ada.predict(x_test_scaled)\n",
    "print(\"Accuracy on the test set:\", round(accuracy_score(y_test, y_pred), 3))"
   ]
  },
  {
   "cell_type": "markdown",
   "metadata": {},
   "source": [
    "# XGBoost"
   ]
  },
  {
   "cell_type": "code",
   "execution_count": 52,
   "metadata": {},
   "outputs": [
    {
     "name": "stdout",
     "output_type": "stream",
     "text": [
      "Accuracy on the training set: 0.964\n"
     ]
    }
   ],
   "source": [
    "import xgboost as xgb\n",
    "xgb_model = xgb.XGBClassifier(n_estimators=100)\n",
    "xgb_model.fit(x_train_scaled, y_train)\n",
    "\n",
    "k = KFold(n_splits=10)\n",
    "score = cross_val_score(xgb_model, x_train_scaled, y_train, scoring='accuracy', cv=k).mean()\n",
    "print(\"Accuracy on the training set:\", round(score, 3))"
   ]
  },
  {
   "cell_type": "code",
   "execution_count": 53,
   "metadata": {},
   "outputs": [
    {
     "name": "stdout",
     "output_type": "stream",
     "text": [
      "Accuracy on the test set: 0.963\n"
     ]
    }
   ],
   "source": [
    "y_pred = xgb_model.predict(x_test_scaled)\n",
    "print(\"Accuracy on the test set:\", round(accuracy_score(y_test, y_pred), 3))"
   ]
  },
  {
   "cell_type": "code",
   "execution_count": 54,
   "metadata": {},
   "outputs": [
    {
     "name": "stdout",
     "output_type": "stream",
     "text": [
      "Accuracy = 0.960655990144749\n",
      "ROC Area under Curve = 0.9585533189392319\n",
      "Time taken = 174.37146592140198\n",
      "              precision    recall  f1-score   support\n",
      "\n",
      "           0    0.95632   0.97484   0.96549     14665\n",
      "           1    0.96654   0.94227   0.95425     11311\n",
      "\n",
      "    accuracy                        0.96066     25976\n",
      "   macro avg    0.96143   0.95855   0.95987     25976\n",
      "weighted avg    0.96077   0.96066   0.96059     25976\n",
      "\n"
     ]
    },
    {
     "data": {
      "image/png": "[encoded data removed]",
      "text/plain": [
       "<Figure size 432x288 with 2 Axes>"
      ]
     },
     "metadata": {
      "needs_background": "light"
     },
     "output_type": "display_data"
    },
    {
     "data": {
      "image/png": "[encoded data removed]",
      "text/plain": [
       "<Figure size 432x288 with 1 Axes>"
      ]
     },
     "metadata": {
      "needs_background": "light"
     },
     "output_type": "display_data"
    }
   ],
   "source": [
    "params_xgb ={'n_estimators': 500,\n",
    "            'max_depth': 16}\n",
    "\n",
    "model_xgb = xgb.XGBClassifier(**params_xgb)\n",
    "model_xgb, accuracy_xgb, roc_auc_xgb, tt_xgb = run_model(model_xgb, x_train_scaled, y_train, x_test_scaled, y_test)"
   ]
  },
  {
   "cell_type": "code",
   "execution_count": 60,
   "metadata": {},
   "outputs": [
    {
     "data": {
      "image/png": "[encoded data removed]",
      "text/plain": [
       "<Figure size 1008x576 with 2 Axes>"
      ]
     },
     "metadata": {
      "needs_background": "light"
     },
     "output_type": "display_data"
    }
   ],
   "source": [
    "\n",
    "roc_auc_scores = [roc_auc_nb, roc_auc_knn, roc_auc_dt, roc_auc_svc, roc_auc_rf, roc_auc_xgb, roc_auc_adab]\n",
    "tt = [tt_nb, tt_knn, tt_dt, tt_svc, tt_rf, tt_xgb, tt_adab]\n",
    "\n",
    "model_data = {\n",
    "    'Model': ['Naive Bayes', 'K-NN', 'Decision Tree', 'SVM', 'Random Forest', 'XGBoost', 'AdaBoost'],\n",
    "    'ROC_AUC': roc_auc_scores,\n",
    "    'Time taken': tt\n",
    "}\n",
    "data = pd.DataFrame(model_data)\n",
    "\n",
    "fig, ax1 = plt.subplots(figsize=(14, 8))\n",
    "ax1.set_title('Model Comparison: Area under ROC Curve and Time taken for execution by Various Models', fontsize=13)\n",
    "color = 'tab:blue'\n",
    "ax1.set_xlabel('Model', fontsize=13)\n",
    "ax1.set_ylabel('Time taken', fontsize=13, color=color)\n",
    "ax2 = sns.barplot(x='Model', y='Time taken', data=data, palette='Blues_r')\n",
    "ax1.tick_params(axis='y')\n",
    "ax2 = ax1.twinx()\n",
    "color = 'tab:orange'\n",
    "ax2.set_ylabel('ROC_AUC', fontsize=13, color=color)\n",
    "ax2 = sns.lineplot(x='Model', y='ROC_AUC', data=data, sort=False, color=color)\n",
    "ax2.tick_params(axis='y', color=color)\n",
    "\n",
    "plt.show()\n"
   ]
  },
  {
   "cell_type": "code",
   "execution_count": null,
   "metadata": {},
   "outputs": [],
   "source": []
  },
  {
   "cell_type": "code",
   "execution_count": null,
   "metadata": {},
   "outputs": [],
   "source": []
  },
  {
   "cell_type": "code",
   "execution_count": null,
   "metadata": {},
   "outputs": [],
   "source": []
  }
 ],
 "metadata": {
  "kernelspec": {
   "display_name": "Python 3",
   "language": "python",
   "name": "python3"
  },
  "language_info": {
   "codemirror_mode": {
    "name": "ipython",
    "version": 3
   },
   "file_extension": ".py",
   "mimetype": "text/x-python",
   "name": "python",
   "nbconvert_exporter": "python",
   "pygments_lexer": "ipython3",
   "version": "3.7.6"
  }
 },
 "nbformat": 4,
 "nbformat_minor": 4
}
